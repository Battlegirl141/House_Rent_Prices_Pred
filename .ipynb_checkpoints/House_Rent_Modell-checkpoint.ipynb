{
 "cells": [
  {
   "cell_type": "markdown",
   "id": "0d11dfd4-a490-457a-8b2d-2730f3e10aa1",
   "metadata": {},
   "source": [
    "# Hallo und herzlich Willkommen zu unserem Jupyter Notebook Code!\n",
    "\n",
    "## Wir sind das Team Datensalat und das ist unser Ergebnis\n",
    "\n",
    "### Viel Spaß bei der Auswertung! :-)\n",
    "\n",
    "Die Datei die wir bearbeitet haben, heißt \"FIDP_IT-Projekt_Prozess_und_Datenanalyse_durchführen\" und es wurde für uns ins schulverzeichnis gespeichert.\n",
    "Diese Datei beinhaltet 14 Aufgaben die wir nacheinander bearbeitet haben.\n",
    "Background: Wir erhalten Daten von verschiedenen Wohnungen mit Spalten die diese einzelne Wohnungen beschreiben.\n",
    "-> Der Key-Value ist der Gesamtpreis einer Wohnung, und unsere Aufgabe ist es, mithilfe von Neurale Netzwerke, diesen Gesamtpreis vorrauszusagen."
   ]
  },
  {
   "cell_type": "markdown",
   "id": "51f69c5a-2641-4f53-9613-25feca83d686",
   "metadata": {},
   "source": [
    "### Aufgabe 1. Daten einlesen und verstehen"
   ]
  },
  {
   "cell_type": "code",
   "execution_count": 1,
   "id": "1f308d4c-5d28-49ba-b291-ff723d8e6064",
   "metadata": {},
   "outputs": [],
   "source": [
    "import pandas as pd\n",
    "import numpy as np"
   ]
  },
  {
   "cell_type": "code",
   "execution_count": 2,
   "id": "ac633806-a757-426b-83ab-0dfeedd08b7c",
   "metadata": {},
   "outputs": [
    {
     "name": "stderr",
     "output_type": "stream",
     "text": [
      "C:\\Users\\Schueler\\AppData\\Local\\Temp\\ipykernel_6640\\2559944237.py:1: DtypeWarning: Columns (5) have mixed types. Specify dtype option on import or set low_memory=False.\n",
      "  df=pd.read_csv(\"mieten_in_bayern.csv\")\n"
     ]
    },
    {
     "data": {
      "text/html": [
       "<div>\n",
       "<style scoped>\n",
       "    .dataframe tbody tr th:only-of-type {\n",
       "        vertical-align: middle;\n",
       "    }\n",
       "\n",
       "    .dataframe tbody tr th {\n",
       "        vertical-align: top;\n",
       "    }\n",
       "\n",
       "    .dataframe thead th {\n",
       "        text-align: right;\n",
       "    }\n",
       "</style>\n",
       "<table border=\"1\" class=\"dataframe\">\n",
       "  <thead>\n",
       "    <tr style=\"text-align: right;\">\n",
       "      <th></th>\n",
       "      <th>Unnamed: 0</th>\n",
       "      <th>regio1</th>\n",
       "      <th>serviceCharge</th>\n",
       "      <th>heatingType</th>\n",
       "      <th>telekomTvOffer</th>\n",
       "      <th>telekomHybridUploadSpeed</th>\n",
       "      <th>newlyConst</th>\n",
       "      <th>balcony</th>\n",
       "      <th>picturecount</th>\n",
       "      <th>pricetrend</th>\n",
       "      <th>...</th>\n",
       "      <th>regio2</th>\n",
       "      <th>regio3</th>\n",
       "      <th>description</th>\n",
       "      <th>facilities</th>\n",
       "      <th>heatingCosts</th>\n",
       "      <th>energyEfficiencyClass</th>\n",
       "      <th>lastRefurbish</th>\n",
       "      <th>electricityBasePrice</th>\n",
       "      <th>electricityKwhPrice</th>\n",
       "      <th>date</th>\n",
       "    </tr>\n",
       "  </thead>\n",
       "  <tbody>\n",
       "    <tr>\n",
       "      <th>0</th>\n",
       "      <td>23</td>\n",
       "      <td>Bayern</td>\n",
       "      <td>180.0</td>\n",
       "      <td>central_heating</td>\n",
       "      <td>ONE_YEAR_FREE</td>\n",
       "      <td>NaN</td>\n",
       "      <td>False</td>\n",
       "      <td>False</td>\n",
       "      <td>18.0</td>\n",
       "      <td>4.47</td>\n",
       "      <td>...</td>\n",
       "      <td>München</td>\n",
       "      <td>Altstadt</td>\n",
       "      <td>Die Wohnung (OHNE Balkon !!) liegt im 4. OG (O...</td>\n",
       "      <td>- Eichenparkettboden im Wohn-EZ u. im Schlafzi...</td>\n",
       "      <td>NaN</td>\n",
       "      <td>NO_INFORMATION</td>\n",
       "      <td>NaN</td>\n",
       "      <td>NaN</td>\n",
       "      <td>NaN</td>\n",
       "      <td>Oct19</td>\n",
       "    </tr>\n",
       "    <tr>\n",
       "      <th>1</th>\n",
       "      <td>28</td>\n",
       "      <td>Bayern</td>\n",
       "      <td>0.0</td>\n",
       "      <td>NaN</td>\n",
       "      <td>ONE_YEAR_FREE</td>\n",
       "      <td>NaN</td>\n",
       "      <td>False</td>\n",
       "      <td>True</td>\n",
       "      <td>25.0</td>\n",
       "      <td>7.53</td>\n",
       "      <td>...</td>\n",
       "      <td>München</td>\n",
       "      <td>Schwabing_West</td>\n",
       "      <td>Highlights:\\n\\n * alle Wände der Wohnräume, Kü...</td>\n",
       "      <td>Waschmaschine in der Wohnung\\nFlachbildfernseh...</td>\n",
       "      <td>NaN</td>\n",
       "      <td>NaN</td>\n",
       "      <td>NaN</td>\n",
       "      <td>NaN</td>\n",
       "      <td>NaN</td>\n",
       "      <td>May19</td>\n",
       "    </tr>\n",
       "    <tr>\n",
       "      <th>2</th>\n",
       "      <td>30</td>\n",
       "      <td>Bayern</td>\n",
       "      <td>170.0</td>\n",
       "      <td>floor_heating</td>\n",
       "      <td>ONE_YEAR_FREE</td>\n",
       "      <td>10.0</td>\n",
       "      <td>False</td>\n",
       "      <td>True</td>\n",
       "      <td>15.0</td>\n",
       "      <td>6.49</td>\n",
       "      <td>...</td>\n",
       "      <td>Passau</td>\n",
       "      <td>Haidenhof_Süd</td>\n",
       "      <td>WOHNEN UND ENTSPANNEN!\\n \\nDie Architektur bei...</td>\n",
       "      <td>- Gartenwohnung in bester Lage\\n- 2 Zimmer + H...</td>\n",
       "      <td>NaN</td>\n",
       "      <td>NaN</td>\n",
       "      <td>NaN</td>\n",
       "      <td>90.76</td>\n",
       "      <td>0.1985</td>\n",
       "      <td>Sep18</td>\n",
       "    </tr>\n",
       "    <tr>\n",
       "      <th>3</th>\n",
       "      <td>32</td>\n",
       "      <td>Bayern</td>\n",
       "      <td>0.0</td>\n",
       "      <td>NaN</td>\n",
       "      <td>ONE_YEAR_FREE</td>\n",
       "      <td>NaN</td>\n",
       "      <td>False</td>\n",
       "      <td>True</td>\n",
       "      <td>29.0</td>\n",
       "      <td>6.08</td>\n",
       "      <td>...</td>\n",
       "      <td>München</td>\n",
       "      <td>Milbertshofen</td>\n",
       "      <td>Bitte beachten Sie: Die Wohnung ist komplett m...</td>\n",
       "      <td>Waschmaschine in der Wohnung\\nFlachbildfernseh...</td>\n",
       "      <td>NaN</td>\n",
       "      <td>NaN</td>\n",
       "      <td>NaN</td>\n",
       "      <td>NaN</td>\n",
       "      <td>NaN</td>\n",
       "      <td>Feb20</td>\n",
       "    </tr>\n",
       "    <tr>\n",
       "      <th>4</th>\n",
       "      <td>49</td>\n",
       "      <td>Bayern</td>\n",
       "      <td>185.0</td>\n",
       "      <td>NaN</td>\n",
       "      <td>ONE_YEAR_FREE</td>\n",
       "      <td>NaN</td>\n",
       "      <td>False</td>\n",
       "      <td>False</td>\n",
       "      <td>11.0</td>\n",
       "      <td>3.45</td>\n",
       "      <td>...</td>\n",
       "      <td>Aschaffenburg</td>\n",
       "      <td>Obernauer_Kolonie</td>\n",
       "      <td>LIEBHABER GESUCHT - STILVOLLE 3-ZIMMERWOHNUNG ...</td>\n",
       "      <td>NaN</td>\n",
       "      <td>NaN</td>\n",
       "      <td>NaN</td>\n",
       "      <td>NaN</td>\n",
       "      <td>NaN</td>\n",
       "      <td>NaN</td>\n",
       "      <td>May19</td>\n",
       "    </tr>\n",
       "  </tbody>\n",
       "</table>\n",
       "<p>5 rows × 50 columns</p>\n",
       "</div>"
      ],
      "text/plain": [
       "  Unnamed: 0  regio1 serviceCharge      heatingType telekomTvOffer  \\\n",
       "0         23  Bayern         180.0  central_heating  ONE_YEAR_FREE   \n",
       "1         28  Bayern           0.0              NaN  ONE_YEAR_FREE   \n",
       "2         30  Bayern         170.0    floor_heating  ONE_YEAR_FREE   \n",
       "3         32  Bayern           0.0              NaN  ONE_YEAR_FREE   \n",
       "4         49  Bayern         185.0              NaN  ONE_YEAR_FREE   \n",
       "\n",
       "  telekomHybridUploadSpeed newlyConst balcony  picturecount  pricetrend  ...  \\\n",
       "0                      NaN      False   False          18.0        4.47  ...   \n",
       "1                      NaN      False    True          25.0        7.53  ...   \n",
       "2                     10.0      False    True          15.0        6.49  ...   \n",
       "3                      NaN      False    True          29.0        6.08  ...   \n",
       "4                      NaN      False   False          11.0        3.45  ...   \n",
       "\n",
       "          regio2             regio3  \\\n",
       "0        München           Altstadt   \n",
       "1        München     Schwabing_West   \n",
       "2         Passau      Haidenhof_Süd   \n",
       "3        München      Milbertshofen   \n",
       "4  Aschaffenburg  Obernauer_Kolonie   \n",
       "\n",
       "                                         description  \\\n",
       "0  Die Wohnung (OHNE Balkon !!) liegt im 4. OG (O...   \n",
       "1  Highlights:\\n\\n * alle Wände der Wohnräume, Kü...   \n",
       "2  WOHNEN UND ENTSPANNEN!\\n \\nDie Architektur bei...   \n",
       "3  Bitte beachten Sie: Die Wohnung ist komplett m...   \n",
       "4  LIEBHABER GESUCHT - STILVOLLE 3-ZIMMERWOHNUNG ...   \n",
       "\n",
       "                                          facilities  heatingCosts  \\\n",
       "0  - Eichenparkettboden im Wohn-EZ u. im Schlafzi...           NaN   \n",
       "1  Waschmaschine in der Wohnung\\nFlachbildfernseh...           NaN   \n",
       "2  - Gartenwohnung in bester Lage\\n- 2 Zimmer + H...           NaN   \n",
       "3  Waschmaschine in der Wohnung\\nFlachbildfernseh...           NaN   \n",
       "4                                                NaN           NaN   \n",
       "\n",
       "  energyEfficiencyClass lastRefurbish electricityBasePrice  \\\n",
       "0        NO_INFORMATION           NaN                  NaN   \n",
       "1                   NaN           NaN                  NaN   \n",
       "2                   NaN           NaN                90.76   \n",
       "3                   NaN           NaN                  NaN   \n",
       "4                   NaN           NaN                  NaN   \n",
       "\n",
       "  electricityKwhPrice   date  \n",
       "0                 NaN  Oct19  \n",
       "1                 NaN  May19  \n",
       "2              0.1985  Sep18  \n",
       "3                 NaN  Feb20  \n",
       "4                 NaN  May19  \n",
       "\n",
       "[5 rows x 50 columns]"
      ]
     },
     "execution_count": 2,
     "metadata": {},
     "output_type": "execute_result"
    }
   ],
   "source": [
    "df=pd.read_csv(\"mieten_in_bayern.csv\")\n",
    "\n",
    "# Vorschau\n",
    "df.head()"
   ]
  },
  {
   "cell_type": "markdown",
   "id": "bb8ae1a1-600f-4fe8-8876-4792767a76c9",
   "metadata": {},
   "source": [
    "### Aufgabe 2. Spalten für das Training des Neuronalen Netzwerks auswählen"
   ]
  },
  {
   "cell_type": "code",
   "execution_count": 3,
   "id": "b50ee272-a30c-4728-a1d8-57ec6274bc1e",
   "metadata": {},
   "outputs": [
    {
     "data": {
      "text/plain": [
       "Index(['Unnamed: 0', 'regio1', 'serviceCharge', 'heatingType',\n",
       "       'telekomTvOffer', 'telekomHybridUploadSpeed', 'newlyConst', 'balcony',\n",
       "       'picturecount', 'pricetrend', 'telekomUploadSpeed', 'totalRent',\n",
       "       'yearConstructed', 'scoutId', 'noParkSpaces', 'firingTypes',\n",
       "       'hasKitchen', 'geo_bln', 'cellar', 'yearConstructedRange', 'baseRent',\n",
       "       'houseNumber', 'livingSpace', 'geo_krs', 'condition', 'interiorQual',\n",
       "       'petsAllowed', 'street', 'streetPlain', 'lift', 'baseRentRange',\n",
       "       'typeOfFlat', 'geo_plz', 'noRooms', 'thermalChar', 'floor',\n",
       "       'numberOfFloors', 'noRoomsRange', 'garden', 'livingSpaceRange',\n",
       "       'regio2', 'regio3', 'description', 'facilities', 'heatingCosts',\n",
       "       'energyEfficiencyClass', 'lastRefurbish', 'electricityBasePrice',\n",
       "       'electricityKwhPrice', 'date'],\n",
       "      dtype='object')"
      ]
     },
     "execution_count": 3,
     "metadata": {},
     "output_type": "execute_result"
    }
   ],
   "source": [
    "df.columns"
   ]
  },
  {
   "cell_type": "code",
   "execution_count": 4,
   "id": "a39c2cad-edd6-4c7e-aafc-c844f2d43d25",
   "metadata": {},
   "outputs": [
    {
     "data": {
      "text/html": [
       "<div>\n",
       "<style scoped>\n",
       "    .dataframe tbody tr th:only-of-type {\n",
       "        vertical-align: middle;\n",
       "    }\n",
       "\n",
       "    .dataframe tbody tr th {\n",
       "        vertical-align: top;\n",
       "    }\n",
       "\n",
       "    .dataframe thead th {\n",
       "        text-align: right;\n",
       "    }\n",
       "</style>\n",
       "<table border=\"1\" class=\"dataframe\">\n",
       "  <thead>\n",
       "    <tr style=\"text-align: right;\">\n",
       "      <th></th>\n",
       "      <th>yearConstructed</th>\n",
       "      <th>livingSpace</th>\n",
       "      <th>telekomUploadSpeed</th>\n",
       "      <th>lastRefurbish</th>\n",
       "      <th>Muenchen</th>\n",
       "      <th>serviceCharge</th>\n",
       "      <th>balcony</th>\n",
       "      <th>totalRent</th>\n",
       "    </tr>\n",
       "  </thead>\n",
       "  <tbody>\n",
       "    <tr>\n",
       "      <th>0</th>\n",
       "      <td>1871.0</td>\n",
       "      <td>81.00</td>\n",
       "      <td>10.0</td>\n",
       "      <td>NaN</td>\n",
       "      <td>True</td>\n",
       "      <td>180.0</td>\n",
       "      <td>False</td>\n",
       "      <td>2030.0</td>\n",
       "    </tr>\n",
       "    <tr>\n",
       "      <th>1</th>\n",
       "      <td>1956.0</td>\n",
       "      <td>61.00</td>\n",
       "      <td>40.0</td>\n",
       "      <td>NaN</td>\n",
       "      <td>True</td>\n",
       "      <td>0.0</td>\n",
       "      <td>True</td>\n",
       "      <td>2400.0</td>\n",
       "    </tr>\n",
       "    <tr>\n",
       "      <th>2</th>\n",
       "      <td>1974.0</td>\n",
       "      <td>106.08</td>\n",
       "      <td>2.4</td>\n",
       "      <td>NaN</td>\n",
       "      <td>False</td>\n",
       "      <td>170.0</td>\n",
       "      <td>True</td>\n",
       "      <td>970.0</td>\n",
       "    </tr>\n",
       "    <tr>\n",
       "      <th>3</th>\n",
       "      <td>2016.0</td>\n",
       "      <td>100.00</td>\n",
       "      <td>40.0</td>\n",
       "      <td>NaN</td>\n",
       "      <td>True</td>\n",
       "      <td>0.0</td>\n",
       "      <td>True</td>\n",
       "      <td>2780.0</td>\n",
       "    </tr>\n",
       "    <tr>\n",
       "      <th>4</th>\n",
       "      <td>2007.0</td>\n",
       "      <td>77.08</td>\n",
       "      <td>40.0</td>\n",
       "      <td>NaN</td>\n",
       "      <td>False</td>\n",
       "      <td>185.0</td>\n",
       "      <td>False</td>\n",
       "      <td>NaN</td>\n",
       "    </tr>\n",
       "  </tbody>\n",
       "</table>\n",
       "</div>"
      ],
      "text/plain": [
       "   yearConstructed  livingSpace  telekomUploadSpeed  lastRefurbish  Muenchen  \\\n",
       "0           1871.0        81.00                10.0            NaN      True   \n",
       "1           1956.0        61.00                40.0            NaN      True   \n",
       "2           1974.0       106.08                 2.4            NaN     False   \n",
       "3           2016.0       100.00                40.0            NaN      True   \n",
       "4           2007.0        77.08                40.0            NaN     False   \n",
       "\n",
       "  serviceCharge balcony  totalRent  \n",
       "0         180.0   False     2030.0  \n",
       "1           0.0    True     2400.0  \n",
       "2         170.0    True      970.0  \n",
       "3           0.0    True     2780.0  \n",
       "4         185.0   False        NaN  "
      ]
     },
     "execution_count": 4,
     "metadata": {},
     "output_type": "execute_result"
    }
   ],
   "source": [
    "df[\"Muenchen\"] = df[\"regio2\"]== \"München\"\n",
    "target = \"totalRent\"\n",
    "features = [\"yearConstructed\", \"livingSpace\", \"telekomUploadSpeed\", \"lastRefurbish\", \"Muenchen\", \"serviceCharge\", \"balcony\"] #regio3 entfernt für Muenchen\n",
    "\n",
    "df_model = df[features + [target]]\n",
    "\n",
    "# Vorschau\n",
    "df_model.head()"
   ]
  },
  {
   "cell_type": "markdown",
   "id": "3690de45-4fe2-47e3-944c-8d7b0dbb777b",
   "metadata": {},
   "source": [
    "### Aufgabe 3. Datenlücken verstehen und ungültige Datensätze löschen"
   ]
  },
  {
   "cell_type": "code",
   "execution_count": 5,
   "id": "c6c820f5-1101-48a7-b3d8-af7ee91970bb",
   "metadata": {},
   "outputs": [
    {
     "data": {
      "text/html": [
       "<div>\n",
       "<style scoped>\n",
       "    .dataframe tbody tr th:only-of-type {\n",
       "        vertical-align: middle;\n",
       "    }\n",
       "\n",
       "    .dataframe tbody tr th {\n",
       "        vertical-align: top;\n",
       "    }\n",
       "\n",
       "    .dataframe thead th {\n",
       "        text-align: right;\n",
       "    }\n",
       "</style>\n",
       "<table border=\"1\" class=\"dataframe\">\n",
       "  <thead>\n",
       "    <tr style=\"text-align: right;\">\n",
       "      <th></th>\n",
       "      <th>yearConstructed</th>\n",
       "      <th>livingSpace</th>\n",
       "      <th>telekomUploadSpeed</th>\n",
       "      <th>lastRefurbish</th>\n",
       "      <th>Muenchen</th>\n",
       "      <th>serviceCharge</th>\n",
       "      <th>balcony</th>\n",
       "      <th>totalRent</th>\n",
       "    </tr>\n",
       "  </thead>\n",
       "  <tbody>\n",
       "    <tr>\n",
       "      <th>0</th>\n",
       "      <td>1936.0</td>\n",
       "      <td>50.0</td>\n",
       "      <td>40.0</td>\n",
       "      <td>2017.0</td>\n",
       "      <td>False</td>\n",
       "      <td>120.0</td>\n",
       "      <td>True</td>\n",
       "      <td>720.0</td>\n",
       "    </tr>\n",
       "    <tr>\n",
       "      <th>1</th>\n",
       "      <td>1999.0</td>\n",
       "      <td>82.0</td>\n",
       "      <td>40.0</td>\n",
       "      <td>2016.0</td>\n",
       "      <td>False</td>\n",
       "      <td>200.0</td>\n",
       "      <td>True</td>\n",
       "      <td>1350.0</td>\n",
       "    </tr>\n",
       "    <tr>\n",
       "      <th>2</th>\n",
       "      <td>1993.0</td>\n",
       "      <td>170.0</td>\n",
       "      <td>10.0</td>\n",
       "      <td>2009.0</td>\n",
       "      <td>False</td>\n",
       "      <td>270.0</td>\n",
       "      <td>True</td>\n",
       "      <td>1170.0</td>\n",
       "    </tr>\n",
       "    <tr>\n",
       "      <th>3</th>\n",
       "      <td>1920.0</td>\n",
       "      <td>102.0</td>\n",
       "      <td>40.0</td>\n",
       "      <td>2015.0</td>\n",
       "      <td>False</td>\n",
       "      <td>165.0</td>\n",
       "      <td>False</td>\n",
       "      <td>735.0</td>\n",
       "    </tr>\n",
       "    <tr>\n",
       "      <th>4</th>\n",
       "      <td>2008.0</td>\n",
       "      <td>160.0</td>\n",
       "      <td>40.0</td>\n",
       "      <td>2019.0</td>\n",
       "      <td>False</td>\n",
       "      <td>300.0</td>\n",
       "      <td>False</td>\n",
       "      <td>2250.0</td>\n",
       "    </tr>\n",
       "  </tbody>\n",
       "</table>\n",
       "</div>"
      ],
      "text/plain": [
       "   yearConstructed  livingSpace  telekomUploadSpeed  lastRefurbish  Muenchen  \\\n",
       "0           1936.0         50.0                40.0         2017.0     False   \n",
       "1           1999.0         82.0                40.0         2016.0     False   \n",
       "2           1993.0        170.0                10.0         2009.0     False   \n",
       "3           1920.0        102.0                40.0         2015.0     False   \n",
       "4           2008.0        160.0                40.0         2019.0     False   \n",
       "\n",
       "   serviceCharge balcony  totalRent  \n",
       "0          120.0    True      720.0  \n",
       "1          200.0    True     1350.0  \n",
       "2          270.0    True     1170.0  \n",
       "3          165.0   False      735.0  \n",
       "4          300.0   False     2250.0  "
      ]
     },
     "execution_count": 5,
     "metadata": {},
     "output_type": "execute_result"
    }
   ],
   "source": [
    "# Optional: Nur vollständige Zeilen behalten\n",
    "df_model = df_model.dropna()\n",
    "\n",
    "df_model = df_model[df_model[\"lastRefurbish\"] <= 2026]\n",
    "\n",
    "df_model = df_model.reset_index(drop=True)\n",
    "\n",
    "df_model[\"serviceCharge\"]=df_model[\"serviceCharge\"].astype(float)\n",
    "\n",
    "\n",
    "# Vorschau\n",
    "df_model.head(5)"
   ]
  },
  {
   "cell_type": "markdown",
   "id": "2bbc7f5e-c294-4967-963a-a4debf5293fe",
   "metadata": {},
   "source": [
    "### Aufgabe 4. Umbenennen der Spalten"
   ]
  },
  {
   "cell_type": "code",
   "execution_count": 6,
   "id": "902b10d5-3df2-4dde-a2cc-265fa0111647",
   "metadata": {},
   "outputs": [
    {
     "data": {
      "text/plain": [
       "Index(['Baujahr', 'Wohnflaeche', 'InetGeschwindigkeit', 'RenovierungsJahr',\n",
       "       'Muenchen', 'ServiceGebuehr', 'Balkon', 'GesamtMiete'],\n",
       "      dtype='object')"
      ]
     },
     "execution_count": 6,
     "metadata": {},
     "output_type": "execute_result"
    }
   ],
   "source": [
    "df_model.rename(columns={\n",
    "    \"balcony\": \"Balkon\",\n",
    "    \"yearConstructed\": \"Baujahr\",\n",
    "    \"livingSpace\": \"Wohnflaeche\",\n",
    "    \"telekomUploadSpeed\": \"InetGeschwindigkeit\",\n",
    "    \"lastRefurbish\": \"RenovierungsJahr\",\n",
    "    \"serviceCharge\": \"ServiceGebuehr\",\n",
    "    \"totalRent\": \"GesamtMiete\"\n",
    "}, inplace=True)\n",
    "\n",
    "df_model.columns"
   ]
  },
  {
   "cell_type": "markdown",
   "id": "89bf8b8e-31e5-4391-b11d-37895041fe3e",
   "metadata": {},
   "source": [
    "### Aufgabe 5. Spalten mit Bool-Werten und kategorialen Werten bearbeiten"
   ]
  },
  {
   "cell_type": "code",
   "execution_count": 7,
   "id": "36554240-5c94-420b-99bd-d9908fb73204",
   "metadata": {},
   "outputs": [
    {
     "name": "stderr",
     "output_type": "stream",
     "text": [
      "C:\\Users\\Schueler\\AppData\\Local\\Temp\\ipykernel_6640\\3109842908.py:2: FutureWarning: Downcasting behavior in `replace` is deprecated and will be removed in a future version. To retain the old behavior, explicitly call `result.infer_objects(copy=False)`. To opt-in to the future behavior, set `pd.set_option('future.no_silent_downcasting', True)`\n",
      "  df_model['Balkon'] = df_model['Balkon'].replace({\"True\": 1, \"False\": 0})\n"
     ]
    },
    {
     "data": {
      "text/plain": [
       "0    1\n",
       "1    1\n",
       "2    1\n",
       "3    0\n",
       "4    0\n",
       "5    1\n",
       "6    0\n",
       "7    1\n",
       "8    1\n",
       "9    1\n",
       "Name: Balkon, dtype: int64"
      ]
     },
     "execution_count": 7,
     "metadata": {},
     "output_type": "execute_result"
    }
   ],
   "source": [
    "#True und False Werte aus der Spalte \"Balkon\" mit '1' und '0' ersetzen\n",
    "df_model['Balkon'] = df_model['Balkon'].replace({\"True\": 1, \"False\": 0})\n",
    "\n",
    "#Vorschau\n",
    "df_model[\"Balkon\"].head(10)"
   ]
  },
  {
   "cell_type": "code",
   "execution_count": 8,
   "id": "f5ccd92b-1040-4d1b-8c77-d64fbe7e21a3",
   "metadata": {},
   "outputs": [
    {
     "data": {
      "text/plain": [
       "Baujahr                  int64\n",
       "Wohnflaeche            float64\n",
       "InetGeschwindigkeit    float64\n",
       "RenovierungsJahr         int64\n",
       "Muenchen                 int64\n",
       "ServiceGebuehr         float64\n",
       "Balkon                   int64\n",
       "GesamtMiete            float64\n",
       "dtype: object"
      ]
     },
     "execution_count": 8,
     "metadata": {},
     "output_type": "execute_result"
    }
   ],
   "source": [
    "#Datentypen von verschiedene Spalten ändern\n",
    "df_model['Balkon']=df_model['Balkon'].astype(int)\n",
    "\n",
    "df_model['Baujahr']=df_model['Baujahr'].astype(int)\n",
    "\n",
    "df_model['RenovierungsJahr']=df_model['RenovierungsJahr'].astype(int)\n",
    "\n",
    "df_model['Muenchen']=df_model['Muenchen'].astype(int)\n",
    "\n",
    "#Vorschau\n",
    "df_model.dtypes"
   ]
  },
  {
   "cell_type": "markdown",
   "id": "07eb0835-f92a-437a-ad56-9a850729d816",
   "metadata": {},
   "source": [
    "### Aufgabe 6. Beispieldaten in Input und Output trennen"
   ]
  },
  {
   "cell_type": "code",
   "execution_count": 9,
   "id": "7d6bc6c4-de5c-4dee-a26e-59b4d3e7f98c",
   "metadata": {},
   "outputs": [],
   "source": [
    "from sklearn.model_selection import train_test_split\n",
    "\n",
    "#Daten Aufteilen in Zielvariable 'Y' und Unabhängige Variablen 'X'\n",
    "X=df_model.drop(columns='GesamtMiete')\n",
    "\n",
    "y=df_model['GesamtMiete']"
   ]
  },
  {
   "cell_type": "code",
   "execution_count": 10,
   "id": "2c474797-3f26-4979-b29a-0c0de69bdac7",
   "metadata": {},
   "outputs": [
    {
     "data": {
      "text/plain": [
       "Index(['Baujahr', 'Wohnflaeche', 'InetGeschwindigkeit', 'RenovierungsJahr',\n",
       "       'Muenchen', 'ServiceGebuehr', 'Balkon'],\n",
       "      dtype='object')"
      ]
     },
     "execution_count": 10,
     "metadata": {},
     "output_type": "execute_result"
    }
   ],
   "source": [
    "#Vorschau X\n",
    "X.columns"
   ]
  },
  {
   "cell_type": "code",
   "execution_count": 11,
   "id": "8df2d30f-1151-446f-b30b-9e91d4c0ec75",
   "metadata": {},
   "outputs": [
    {
     "data": {
      "text/plain": [
       "0     720.0\n",
       "1    1350.0\n",
       "2    1170.0\n",
       "3     735.0\n",
       "4    2250.0\n",
       "Name: GesamtMiete, dtype: float64"
      ]
     },
     "execution_count": 11,
     "metadata": {},
     "output_type": "execute_result"
    }
   ],
   "source": [
    "#Vorschau Y\n",
    "y.head()"
   ]
  },
  {
   "cell_type": "markdown",
   "id": "872c8847-e1b2-4238-9ca5-fe71b5b57ffa",
   "metadata": {},
   "source": [
    "### Aufgabe 8. Trainings- und Testdaten definieren"
   ]
  },
  {
   "cell_type": "code",
   "execution_count": 12,
   "id": "68f86998-32d8-4bc6-bfa8-5d214418db9a",
   "metadata": {},
   "outputs": [
    {
     "data": {
      "text/plain": [
       "((3460, 7), (866, 7))"
      ]
     },
     "execution_count": 12,
     "metadata": {},
     "output_type": "execute_result"
    }
   ],
   "source": [
    "#Aufteilen in Trainingsdaten und Testdaten 80 zu 20\n",
    "X_train, X_test, y_train, y_test = train_test_split(X, y, test_size=0.2, random_state=42)\n",
    "\n",
    "#Vorschau 80 zu 20\n",
    "X_train.shape,X_test.shape"
   ]
  },
  {
   "cell_type": "markdown",
   "id": "e80a55ad-1ac9-4969-8099-d34e9bf49bdd",
   "metadata": {},
   "source": [
    "### Aufgabe 7. Input und Outputdaten normalisieren"
   ]
  },
  {
   "cell_type": "code",
   "execution_count": 13,
   "id": "cb703ac9-6acf-4d19-bda7-ef45f4e0d2f1",
   "metadata": {},
   "outputs": [],
   "source": [
    "from sklearn.preprocessing import StandardScaler\n",
    "\n",
    "# Standardisiere Eingabe- und Ausgabedaten (X und y) für das Modelltraining\n",
    "scaler=StandardScaler()\n",
    "\n",
    "X_train=scaler.fit_transform(X_train)\n",
    "X_test=scaler.transform(X_test)\n",
    "\n",
    "outScaler=StandardScaler()\n",
    "\n",
    "y_train=outScaler.fit_transform(pd.DataFrame(y_train))\n",
    "y_test=outScaler.transform(pd.DataFrame(y_test))"
   ]
  },
  {
   "cell_type": "code",
   "execution_count": 14,
   "id": "58b39c19-f3ed-4ee5-b601-ecff83699ace",
   "metadata": {},
   "outputs": [
    {
     "data": {
      "text/html": [
       "<div>\n",
       "<style scoped>\n",
       "    .dataframe tbody tr th:only-of-type {\n",
       "        vertical-align: middle;\n",
       "    }\n",
       "\n",
       "    .dataframe tbody tr th {\n",
       "        vertical-align: top;\n",
       "    }\n",
       "\n",
       "    .dataframe thead th {\n",
       "        text-align: right;\n",
       "    }\n",
       "</style>\n",
       "<table border=\"1\" class=\"dataframe\">\n",
       "  <thead>\n",
       "    <tr style=\"text-align: right;\">\n",
       "      <th></th>\n",
       "      <th>Baujahr</th>\n",
       "      <th>Wohnflaeche</th>\n",
       "      <th>InetGeschwindigkeit</th>\n",
       "      <th>RenovierungsJahr</th>\n",
       "      <th>Muenchen</th>\n",
       "      <th>ServiceGebuehr</th>\n",
       "      <th>Balkon</th>\n",
       "    </tr>\n",
       "  </thead>\n",
       "  <tbody>\n",
       "    <tr>\n",
       "      <th>0</th>\n",
       "      <td>0.212468</td>\n",
       "      <td>0.051126</td>\n",
       "      <td>0.658933</td>\n",
       "      <td>-1.388078</td>\n",
       "      <td>-0.570675</td>\n",
       "      <td>0.843522</td>\n",
       "      <td>0.577795</td>\n",
       "    </tr>\n",
       "    <tr>\n",
       "      <th>1</th>\n",
       "      <td>0.763755</td>\n",
       "      <td>0.007929</td>\n",
       "      <td>0.658933</td>\n",
       "      <td>-0.348207</td>\n",
       "      <td>-0.570675</td>\n",
       "      <td>0.617187</td>\n",
       "      <td>0.577795</td>\n",
       "    </tr>\n",
       "    <tr>\n",
       "      <th>2</th>\n",
       "      <td>-0.176675</td>\n",
       "      <td>-0.027697</td>\n",
       "      <td>0.658933</td>\n",
       "      <td>0.483690</td>\n",
       "      <td>1.752309</td>\n",
       "      <td>2.110996</td>\n",
       "      <td>0.577795</td>\n",
       "    </tr>\n",
       "    <tr>\n",
       "      <th>3</th>\n",
       "      <td>0.844826</td>\n",
       "      <td>0.039992</td>\n",
       "      <td>0.658933</td>\n",
       "      <td>0.691665</td>\n",
       "      <td>-0.570675</td>\n",
       "      <td>1.975195</td>\n",
       "      <td>0.577795</td>\n",
       "    </tr>\n",
       "    <tr>\n",
       "      <th>4</th>\n",
       "      <td>-0.111818</td>\n",
       "      <td>-0.025025</td>\n",
       "      <td>0.658933</td>\n",
       "      <td>-0.140232</td>\n",
       "      <td>-0.570675</td>\n",
       "      <td>-0.627653</td>\n",
       "      <td>-1.730717</td>\n",
       "    </tr>\n",
       "  </tbody>\n",
       "</table>\n",
       "</div>"
      ],
      "text/plain": [
       "    Baujahr  Wohnflaeche  InetGeschwindigkeit  RenovierungsJahr  Muenchen  \\\n",
       "0  0.212468     0.051126             0.658933         -1.388078 -0.570675   \n",
       "1  0.763755     0.007929             0.658933         -0.348207 -0.570675   \n",
       "2 -0.176675    -0.027697             0.658933          0.483690  1.752309   \n",
       "3  0.844826     0.039992             0.658933          0.691665 -0.570675   \n",
       "4 -0.111818    -0.025025             0.658933         -0.140232 -0.570675   \n",
       "\n",
       "   ServiceGebuehr    Balkon  \n",
       "0        0.843522  0.577795  \n",
       "1        0.617187  0.577795  \n",
       "2        2.110996  0.577795  \n",
       "3        1.975195  0.577795  \n",
       "4       -0.627653 -1.730717  "
      ]
     },
     "execution_count": 14,
     "metadata": {},
     "output_type": "execute_result"
    }
   ],
   "source": [
    "#Vorschau\n",
    "X_train_df = pd.DataFrame(X_train, columns=X.columns)\n",
    "X_train_df.head(5)"
   ]
  },
  {
   "cell_type": "code",
   "execution_count": 15,
   "id": "075e9386-1906-4e5e-8a14-3cb736ec02b7",
   "metadata": {},
   "outputs": [],
   "source": [
    "import pickle\n",
    "\n",
    "# Speichern der Zustände mit pickle\n",
    "with open('Inscaler.pkl', 'wb') as f:\n",
    "    pickle.dump(scaler, f)\n",
    "with open('OutScaler.pkl', 'wb') as f:\n",
    "    pickle.dump(outScaler, f)"
   ]
  },
  {
   "cell_type": "code",
   "execution_count": 16,
   "id": "e4e8e8f3-593e-42c6-bc5a-d0bc2c9aeb2c",
   "metadata": {},
   "outputs": [
    {
     "name": "stdout",
     "output_type": "stream",
     "text": [
      "[[-3.18792154e+01 -9.00970065e-02 -1.98403871e+00 -4.19107768e+02\n",
      "   3.49991276e+00 -1.98892203e+00 -3.96869581e-01]]\n"
     ]
    },
    {
     "name": "stderr",
     "output_type": "stream",
     "text": [
      "C:\\progs\\AnacondaNavigator\\envs\\tf_env\\lib\\site-packages\\sklearn\\utils\\validation.py:2739: UserWarning: X does not have valid feature names, but StandardScaler was fitted with feature names\n",
      "  warnings.warn(\n"
     ]
    }
   ],
   "source": [
    "# Vorschau: Skaler wieder laden und ein Beispiel transformieren\n",
    "with open('Inscaler.pkl', 'rb') as f:\n",
    "    loaded_scaler = pickle.load(f)\n",
    "\n",
    "# Vorschau\n",
    "print(loaded_scaler.transform(X_test[:1]))"
   ]
  },
  {
   "cell_type": "markdown",
   "id": "03faa64c-9aa3-4377-9a1f-59500f8ca670",
   "metadata": {},
   "source": [
    "### Aufgabe 9. Multi Layer Perceptron (MLP) vorbereiten und trainieren"
   ]
  },
  {
   "cell_type": "code",
   "execution_count": 17,
   "id": "74644b21-37e0-411d-8ce2-2aaf98182ebb",
   "metadata": {
    "scrolled": true
   },
   "outputs": [
    {
     "name": "stderr",
     "output_type": "stream",
     "text": [
      "C:\\progs\\AnacondaNavigator\\envs\\tf_env\\lib\\site-packages\\keras\\src\\layers\\core\\dense.py:93: UserWarning: Do not pass an `input_shape`/`input_dim` argument to a layer. When using Sequential models, prefer using an `Input(shape)` object as the first layer in the model instead.\n",
      "  super().__init__(activity_regularizer=activity_regularizer, **kwargs)\n"
     ]
    }
   ],
   "source": [
    "from tensorflow import keras\n",
    "from tensorflow.keras import layers\n",
    "from tensorflow.keras.models import Sequential\n",
    "from tensorflow.keras.layers import Dense\n",
    "import tensorflow as tf\n",
    "\n",
    "# Erstelle ein sequenzielles Modell mit zwei versteckten Schichten\n",
    "model = Sequential([\n",
    "    Dense(7, activation='relu', input_shape=(X_train.shape[1],)),\n",
    "    Dense(5, activation='relu'),  # Neue versteckte Schicht mit 5 Neuronen\n",
    "    Dense(1)  # Für Regression: keine Aktivierungsfunktion\n",
    "])\n",
    "\n",
    "# Root Mean Squared Error (RMSE) als benutzerdefinierte Verlustfunktion\n",
    "def rmse(y_true, y_pred):\n",
    "    return tf.sqrt(tf.reduce_mean(tf.square(y_true - y_pred)))\n",
    "\n",
    "# Modell Kompilieren\n",
    "model.compile(optimizer='adam', loss=rmse)"
   ]
  },
  {
   "cell_type": "markdown",
   "id": "d73e0e7a-70bf-4a81-a249-0ade68db83e5",
   "metadata": {},
   "source": [
    "### Aufgabe 10. Plotten der Fehlerkurve"
   ]
  },
  {
   "cell_type": "code",
   "execution_count": null,
   "id": "900a6063-dee0-4ed3-b918-a618e17f3b8e",
   "metadata": {},
   "outputs": [],
   "source": [
    "import matplotlib.pyplot as plt\n",
    "\n",
    "# Modell plotten\n",
    "history=model.fit(X_train, y_train, epochs=30, batch_size=16, validation_split=0.2)\n",
    "\n",
    "# Verlaufsdaten extrahieren\n",
    "train_loss = history.history['loss']\n",
    "val_loss = history.history['val_loss']\n",
    "epochs = range(1, len(train_loss) + 1)\n",
    "\n",
    "plt.figure(figsize=(8, 5))\n",
    "plt.plot(epochs, train_loss, 'bo-', label='Training Loss')\n",
    "plt.plot(epochs, val_loss, 'ro-', label='Validation Loss')\n",
    "plt.title('Training & Validation Loss')\n",
    "plt.xlabel('Epoche')\n",
    "plt.ylabel('Loss')\n",
    "plt.legend()\n",
    "plt.grid(True)\n",
    "plt.tight_layout()\n",
    "plt.show()\n"
   ]
  },
  {
   "cell_type": "code",
   "execution_count": 18,
   "id": "be595090-c480-49f6-869b-17ea0596f8fe",
   "metadata": {},
   "outputs": [],
   "source": [
    "# neu trainieren mit allen Trainingsdaten:\n",
    "# Erstelle ein 2. Modell\n",
    "model2 = Sequential([\n",
    "    Dense(7, activation='relu', input_shape=(X_train.shape[1],)),\n",
    "    Dense(5, activation='relu'),  # Neue versteckte Schicht mit 5 Neuronen\n",
    "    Dense(1)  # Für Regression: keine Aktivierungsfunktion\n",
    "])\n",
    "\n",
    "# Root Mean Squared Error (RMSE) als benutzerdefinierte Verlustfunktion\n",
    "def rmse(y_true, y_pred):\n",
    "    return tf.sqrt(tf.reduce_mean(tf.square(y_true - y_pred)))\n",
    "\n",
    "# Modell Kompilieren\n",
    "model2.compile(optimizer='adam', loss=rmse)"
   ]
  },
  {
   "cell_type": "code",
   "execution_count": 19,
   "id": "170c7e20-ee59-4bd1-a0e4-7c780f92cb52",
   "metadata": {},
   "outputs": [
    {
     "name": "stdout",
     "output_type": "stream",
     "text": [
      "Epoch 1/30\n",
      "\u001b[1m217/217\u001b[0m \u001b[32m━━━━━━━━━━━━━━━━━━━━\u001b[0m\u001b[37m\u001b[0m \u001b[1m2s\u001b[0m 4ms/step - loss: 0.8198\n",
      "Epoch 2/30\n",
      "\u001b[1m217/217\u001b[0m \u001b[32m━━━━━━━━━━━━━━━━━━━━\u001b[0m\u001b[37m\u001b[0m \u001b[1m1s\u001b[0m 3ms/step - loss: 0.6359\n",
      "Epoch 3/30\n",
      "\u001b[1m217/217\u001b[0m \u001b[32m━━━━━━━━━━━━━━━━━━━━\u001b[0m\u001b[37m\u001b[0m \u001b[1m1s\u001b[0m 3ms/step - loss: 0.5960\n",
      "Epoch 4/30\n",
      "\u001b[1m217/217\u001b[0m \u001b[32m━━━━━━━━━━━━━━━━━━━━\u001b[0m\u001b[37m\u001b[0m \u001b[1m1s\u001b[0m 4ms/step - loss: 0.5851\n",
      "Epoch 5/30\n",
      "\u001b[1m217/217\u001b[0m \u001b[32m━━━━━━━━━━━━━━━━━━━━\u001b[0m\u001b[37m\u001b[0m \u001b[1m1s\u001b[0m 4ms/step - loss: 0.5542\n",
      "Epoch 6/30\n",
      "\u001b[1m217/217\u001b[0m \u001b[32m━━━━━━━━━━━━━━━━━━━━\u001b[0m\u001b[37m\u001b[0m \u001b[1m1s\u001b[0m 4ms/step - loss: 0.5545\n",
      "Epoch 7/30\n",
      "\u001b[1m217/217\u001b[0m \u001b[32m━━━━━━━━━━━━━━━━━━━━\u001b[0m\u001b[37m\u001b[0m \u001b[1m1s\u001b[0m 4ms/step - loss: 0.5512\n",
      "Epoch 8/30\n",
      "\u001b[1m217/217\u001b[0m \u001b[32m━━━━━━━━━━━━━━━━━━━━\u001b[0m\u001b[37m\u001b[0m \u001b[1m1s\u001b[0m 3ms/step - loss: 0.5423\n",
      "Epoch 9/30\n",
      "\u001b[1m217/217\u001b[0m \u001b[32m━━━━━━━━━━━━━━━━━━━━\u001b[0m\u001b[37m\u001b[0m \u001b[1m1s\u001b[0m 3ms/step - loss: 0.5627\n",
      "Epoch 10/30\n",
      "\u001b[1m217/217\u001b[0m \u001b[32m━━━━━━━━━━━━━━━━━━━━\u001b[0m\u001b[37m\u001b[0m \u001b[1m1s\u001b[0m 2ms/step - loss: 0.5608\n",
      "Epoch 11/30\n",
      "\u001b[1m217/217\u001b[0m \u001b[32m━━━━━━━━━━━━━━━━━━━━\u001b[0m\u001b[37m\u001b[0m \u001b[1m1s\u001b[0m 3ms/step - loss: 0.5405\n",
      "Epoch 12/30\n",
      "\u001b[1m217/217\u001b[0m \u001b[32m━━━━━━━━━━━━━━━━━━━━\u001b[0m\u001b[37m\u001b[0m \u001b[1m1s\u001b[0m 4ms/step - loss: 0.5391\n",
      "Epoch 13/30\n",
      "\u001b[1m217/217\u001b[0m \u001b[32m━━━━━━━━━━━━━━━━━━━━\u001b[0m\u001b[37m\u001b[0m \u001b[1m1s\u001b[0m 3ms/step - loss: 0.5346\n",
      "Epoch 14/30\n",
      "\u001b[1m217/217\u001b[0m \u001b[32m━━━━━━━━━━━━━━━━━━━━\u001b[0m\u001b[37m\u001b[0m \u001b[1m1s\u001b[0m 4ms/step - loss: 0.5318\n",
      "Epoch 15/30\n",
      "\u001b[1m217/217\u001b[0m \u001b[32m━━━━━━━━━━━━━━━━━━━━\u001b[0m\u001b[37m\u001b[0m \u001b[1m1s\u001b[0m 4ms/step - loss: 0.5015\n",
      "Epoch 16/30\n",
      "\u001b[1m217/217\u001b[0m \u001b[32m━━━━━━━━━━━━━━━━━━━━\u001b[0m\u001b[37m\u001b[0m \u001b[1m1s\u001b[0m 4ms/step - loss: 0.5272\n",
      "Epoch 17/30\n",
      "\u001b[1m217/217\u001b[0m \u001b[32m━━━━━━━━━━━━━━━━━━━━\u001b[0m\u001b[37m\u001b[0m \u001b[1m1s\u001b[0m 3ms/step - loss: 0.5139\n",
      "Epoch 18/30\n",
      "\u001b[1m217/217\u001b[0m \u001b[32m━━━━━━━━━━━━━━━━━━━━\u001b[0m\u001b[37m\u001b[0m \u001b[1m1s\u001b[0m 3ms/step - loss: 0.5144\n",
      "Epoch 19/30\n",
      "\u001b[1m217/217\u001b[0m \u001b[32m━━━━━━━━━━━━━━━━━━━━\u001b[0m\u001b[37m\u001b[0m \u001b[1m1s\u001b[0m 3ms/step - loss: 0.4849\n",
      "Epoch 20/30\n",
      "\u001b[1m217/217\u001b[0m \u001b[32m━━━━━━━━━━━━━━━━━━━━\u001b[0m\u001b[37m\u001b[0m \u001b[1m1s\u001b[0m 3ms/step - loss: 0.4959\n",
      "Epoch 21/30\n",
      "\u001b[1m217/217\u001b[0m \u001b[32m━━━━━━━━━━━━━━━━━━━━\u001b[0m\u001b[37m\u001b[0m \u001b[1m1s\u001b[0m 3ms/step - loss: 0.4938\n",
      "Epoch 22/30\n",
      "\u001b[1m217/217\u001b[0m \u001b[32m━━━━━━━━━━━━━━━━━━━━\u001b[0m\u001b[37m\u001b[0m \u001b[1m1s\u001b[0m 2ms/step - loss: 0.5358\n",
      "Epoch 23/30\n",
      "\u001b[1m217/217\u001b[0m \u001b[32m━━━━━━━━━━━━━━━━━━━━\u001b[0m\u001b[37m\u001b[0m \u001b[1m1s\u001b[0m 3ms/step - loss: 0.4881\n",
      "Epoch 24/30\n",
      "\u001b[1m217/217\u001b[0m \u001b[32m━━━━━━━━━━━━━━━━━━━━\u001b[0m\u001b[37m\u001b[0m \u001b[1m1s\u001b[0m 3ms/step - loss: 0.5023\n",
      "Epoch 25/30\n",
      "\u001b[1m217/217\u001b[0m \u001b[32m━━━━━━━━━━━━━━━━━━━━\u001b[0m\u001b[37m\u001b[0m \u001b[1m1s\u001b[0m 4ms/step - loss: 0.4931\n",
      "Epoch 26/30\n",
      "\u001b[1m217/217\u001b[0m \u001b[32m━━━━━━━━━━━━━━━━━━━━\u001b[0m\u001b[37m\u001b[0m \u001b[1m1s\u001b[0m 4ms/step - loss: 0.4734\n",
      "Epoch 27/30\n",
      "\u001b[1m217/217\u001b[0m \u001b[32m━━━━━━━━━━━━━━━━━━━━\u001b[0m\u001b[37m\u001b[0m \u001b[1m1s\u001b[0m 4ms/step - loss: 0.4753\n",
      "Epoch 28/30\n",
      "\u001b[1m217/217\u001b[0m \u001b[32m━━━━━━━━━━━━━━━━━━━━\u001b[0m\u001b[37m\u001b[0m \u001b[1m1s\u001b[0m 4ms/step - loss: 0.4679\n",
      "Epoch 29/30\n",
      "\u001b[1m217/217\u001b[0m \u001b[32m━━━━━━━━━━━━━━━━━━━━\u001b[0m\u001b[37m\u001b[0m \u001b[1m1s\u001b[0m 2ms/step - loss: 0.4883\n",
      "Epoch 30/30\n",
      "\u001b[1m217/217\u001b[0m \u001b[32m━━━━━━━━━━━━━━━━━━━━\u001b[0m\u001b[37m\u001b[0m \u001b[1m1s\u001b[0m 3ms/step - loss: 0.4775\n"
     ]
    },
    {
     "ename": "NameError",
     "evalue": "name 'val_loss' is not defined",
     "output_type": "error",
     "traceback": [
      "\u001b[1;31m---------------------------------------------------------------------------\u001b[0m",
      "\u001b[1;31mNameError\u001b[0m                                 Traceback (most recent call last)",
      "Cell \u001b[1;32mIn[19], line 15\u001b[0m\n\u001b[0;32m     13\u001b[0m plt\u001b[38;5;241m.\u001b[39mfigure(figsize\u001b[38;5;241m=\u001b[39m(\u001b[38;5;241m8\u001b[39m, \u001b[38;5;241m5\u001b[39m))\n\u001b[0;32m     14\u001b[0m plt\u001b[38;5;241m.\u001b[39mplot(epochs, train_loss, \u001b[38;5;124m'\u001b[39m\u001b[38;5;124mbo-\u001b[39m\u001b[38;5;124m'\u001b[39m, label\u001b[38;5;241m=\u001b[39m\u001b[38;5;124m'\u001b[39m\u001b[38;5;124mTraining Loss\u001b[39m\u001b[38;5;124m'\u001b[39m)\n\u001b[1;32m---> 15\u001b[0m plt\u001b[38;5;241m.\u001b[39mplot(epochs, \u001b[43mval_loss\u001b[49m, \u001b[38;5;124m'\u001b[39m\u001b[38;5;124mro-\u001b[39m\u001b[38;5;124m'\u001b[39m, label\u001b[38;5;241m=\u001b[39m\u001b[38;5;124m'\u001b[39m\u001b[38;5;124mValidation Loss\u001b[39m\u001b[38;5;124m'\u001b[39m)\n\u001b[0;32m     16\u001b[0m plt\u001b[38;5;241m.\u001b[39mtitle(\u001b[38;5;124m'\u001b[39m\u001b[38;5;124mTraining & Validation Loss\u001b[39m\u001b[38;5;124m'\u001b[39m)\n\u001b[0;32m     17\u001b[0m plt\u001b[38;5;241m.\u001b[39mxlabel(\u001b[38;5;124m'\u001b[39m\u001b[38;5;124mEpoche\u001b[39m\u001b[38;5;124m'\u001b[39m)\n",
      "\u001b[1;31mNameError\u001b[0m: name 'val_loss' is not defined"
     ]
    },
    {
     "data": {
      "image/png": "[encoded data removed]",
      "text/plain": [
       "<Figure size 800x500 with 1 Axes>"
      ]
     },
     "metadata": {},
     "output_type": "display_data"
    }
   ],
   "source": [
    "# neu trainieren mit allen Trainingsdaten\n",
    "\n",
    "import matplotlib.pyplot as plt\n",
    "\n",
    "# Modell plotten\n",
    "history2=model2.fit(X_train, y_train, epochs=30, batch_size=16, validation_split=0)\n",
    "\n",
    "# Verlaufsdaten extrahieren\n",
    "train_loss = history2.history['loss']\n",
    "# val_loss = history2.history['val_loss']\n",
    "epochs = range(1, len(train_loss) + 1)\n",
    "\n",
    "plt.figure(figsize=(8, 5))\n",
    "plt.plot(epochs, train_loss, 'bo-', label='Training Loss')\n",
    "plt.title('Training Loss')\n",
    "plt.xlabel('Epoche')\n",
    "plt.ylabel('Loss')\n",
    "plt.legend()\n",
    "plt.grid(True)\n",
    "plt.tight_layout()\n",
    "plt.show()\n"
   ]
  },
  {
   "cell_type": "markdown",
   "id": "b27465a3-f59e-4bbd-9907-ff03b0c47a76",
   "metadata": {},
   "source": [
    "Eine *Epoche* ist ein kompletter Durchlauf durch den gesamten Trainingsdatensatz beim Training eines Modells."
   ]
  },
  {
   "cell_type": "markdown",
   "id": "5b2aea3d-66f7-4330-a743-80ce9abb931c",
   "metadata": {},
   "source": [
    "### Aufgabe 11. Gelerntes Modell auf Testdaten testen"
   ]
  },
  {
   "cell_type": "code",
   "execution_count": null,
   "id": "4fb07405-d248-4374-83a8-9716c0a9ee81",
   "metadata": {},
   "outputs": [],
   "source": [
    "# Die Werte auf Euro zurückskalieren\n",
    "\n",
    "# 1. Vorhersage in Euro\n",
    "y_pred_scaled = model2.predict(X_test)\n",
    "y_pred = outScaler.inverse_transform(y_pred_scaled)\n",
    "\n",
    "# 2. Wahre Werte in Euro\n",
    "y_test_euro = outScaler.inverse_transform(y_test)  # falls y_test noch skaliert ist\n"
   ]
  },
  {
   "cell_type": "code",
   "execution_count": null,
   "id": "286806c1-75d6-48a5-8858-659890fc06db",
   "metadata": {},
   "outputs": [],
   "source": [
    "# 3. Durchschnittlicher Fehler: (Vorhersage - Wahrer Wert)\n",
    "fehler = abs(y_pred - y_test_euro) # Betrag\n",
    "durchschnittlicher_fehler = np.mean(fehler)\n",
    "\n",
    "# Vorschau\n",
    "print(f\"Durchschnittlicher Fehler: {durchschnittlicher_fehler:.2f} €\")"
   ]
  },
  {
   "cell_type": "markdown",
   "id": "34eca912-100b-42fb-ba03-467a369ccb37",
   "metadata": {},
   "source": [
    "### Aufgabe 12. Vergleich der Güte des Modells mit Mittelwertschätzer (RMSE vs. Mean)"
   ]
  },
  {
   "cell_type": "code",
   "execution_count": null,
   "id": "491add1d-9b3f-471a-abda-79b2d777c9aa",
   "metadata": {},
   "outputs": [],
   "source": [
    "# 1. Mittelwertschätzer erzeugen\n",
    "mittelwert = np.mean(y_test_euro)\n",
    "y_mittelwert = np.full_like(y_test_euro, fill_value=mittelwert)\n",
    "\n",
    "# 2. RMSE des Mittelwertschätzers\n",
    "rmse_mittelwert = np.sqrt(np.mean((y_test_euro - y_mittelwert) ** 2))\n",
    "\n",
    "# 3. RMSE des Modells (falls noch nicht berechnet)\n",
    "rmse_modell = np.sqrt(np.mean((y_test_euro - y_pred) ** 2))\n",
    "print(rmse_modell)\n",
    "\n",
    "# Vorschau\n",
    "print(f\"RMSE Modell: {rmse_modell:.2f} €\")\n",
    "print(f\"RMSE Mittelwertschätzer: {rmse_mittelwert:.2f} €\")"
   ]
  },
  {
   "cell_type": "markdown",
   "id": "3e0ff96d-2ad9-463a-adcc-d86a01ff6717",
   "metadata": {},
   "source": [
    "### Aufgabe 13. Modell und Skalierer speichern"
   ]
  },
  {
   "cell_type": "code",
   "execution_count": null,
   "id": "b2824cbb-d578-4cdb-b281-89b4914c7be7",
   "metadata": {},
   "outputs": [],
   "source": [
    "# Angenommen, model2 ist dein Modell oder Objekt, das du speichern möchtest\n",
    "\n",
    "# Speichern in eine Datei\n",
    "with open('model2.pkl', 'wb') as f:\n",
    "    pickle.dump(model2, f)\n",
    "\n",
    "#Vorschau Test\n",
    "print(\"Modell wurde erfolgreich als model2.pkl gespeichert.\")"
   ]
  },
  {
   "cell_type": "markdown",
   "id": "bcf43292-01a7-43b9-98dc-167b63ec161b",
   "metadata": {},
   "source": [
    "### Aufgabe 14. Modell für den Kunden bereit stellen\n",
    "Diese Aufgabe ist als weitere Datei abgespeichert mit dem Namen Kunden_Notebook.ipynb.\n",
    "Der Pfad ist im Klassenordner wie Folgt: \"K:\\Daten\\IT-DP-Projekt\\Gruppe 3 - Datensalat\\Kunden_Notebook.ipynb\""
   ]
  }
 ],
 "metadata": {
  "kernelspec": {
   "display_name": "Python 3 (ipykernel)",
   "language": "python",
   "name": "python3"
  },
  "language_info": {
   "codemirror_mode": {
    "name": "ipython",
    "version": 3
   },
   "file_extension": ".py",
   "mimetype": "text/x-python",
   "name": "python",
   "nbconvert_exporter": "python",
   "pygments_lexer": "ipython3",
   "version": "3.10.16"
  }
 },
 "nbformat": 4,
 "nbformat_minor": 5
}
