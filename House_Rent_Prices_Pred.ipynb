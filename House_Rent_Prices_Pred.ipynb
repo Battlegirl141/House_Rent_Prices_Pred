{
 "cells": [
  {
   "cell_type": "code",
   "execution_count": 3,
   "id": "f4622520-8c66-4707-b373-c0a47ccd940c",
   "metadata": {},
   "outputs": [],
   "source": [
    "import pandas as pd\n",
    "import numpy as np\n",
    "import matplotlib.pyplot as plt\n",
    "from sklearn.model_selection import train_test_split\n",
    "from sklearn.preprocessing import LabelEncoder, StandardScaler\n",
    "from sklearn.impute import SimpleImputer\n",
    "from sklearn.metrics import accuracy_score\n",
    "from sklearn.neighbors import KNeighborsClassifier\n",
    "from sklearn.tree import DecisionTreeClassifier\n",
    "from sklearn.ensemble import RandomForestClassifier\n",
    "import pickle\n",
    "from tensorflow import keras\n",
    "from tensorflow.keras import layers\n",
    "from tensorflow.keras.models import Sequential\n",
    "from tensorflow.keras.layers import Dense\n",
    "import tensorflow as tf\n",
    "from tensorflow.keras import Input"
   ]
  },
  {
   "cell_type": "code",
   "execution_count": 4,
   "id": "eea5db40-482c-4181-88d0-fd5fe0355c5b",
   "metadata": {},
   "outputs": [
    {
     "name": "stderr",
     "output_type": "stream",
     "text": [
      "C:\\Users\\battl\\AppData\\Local\\Temp\\ipykernel_12012\\3940222591.py:1: DtypeWarning: Columns (5) have mixed types. Specify dtype option on import or set low_memory=False.\n",
      "  df = pd.read_csv(\"mieten_in_bayern.csv\")\n"
     ]
    }
   ],
   "source": [
    "df = pd.read_csv(\"mieten_in_bayern.csv\")"
   ]
  },
  {
   "cell_type": "code",
   "execution_count": 5,
   "id": "414c1cf6-f811-471a-b0ae-1e02231e2d2d",
   "metadata": {},
   "outputs": [
    {
     "data": {
      "text/plain": [
       "(21965, 50)"
      ]
     },
     "execution_count": 5,
     "metadata": {},
     "output_type": "execute_result"
    }
   ],
   "source": [
    "df.shape\n"
   ]
  },
  {
   "cell_type": "code",
   "execution_count": 6,
   "id": "af85dd65-c0f1-4b98-9c0e-13a0fc8668a2",
   "metadata": {},
   "outputs": [
    {
     "data": {
      "text/plain": [
       "Index(['Unnamed: 0', 'regio1', 'serviceCharge', 'heatingType',\n",
       "       'telekomTvOffer', 'telekomHybridUploadSpeed', 'newlyConst', 'balcony',\n",
       "       'picturecount', 'pricetrend', 'telekomUploadSpeed', 'totalRent',\n",
       "       'yearConstructed', 'scoutId', 'noParkSpaces', 'firingTypes',\n",
       "       'hasKitchen', 'geo_bln', 'cellar', 'yearConstructedRange', 'baseRent',\n",
       "       'houseNumber', 'livingSpace', 'geo_krs', 'condition', 'interiorQual',\n",
       "       'petsAllowed', 'street', 'streetPlain', 'lift', 'baseRentRange',\n",
       "       'typeOfFlat', 'geo_plz', 'noRooms', 'thermalChar', 'floor',\n",
       "       'numberOfFloors', 'noRoomsRange', 'garden', 'livingSpaceRange',\n",
       "       'regio2', 'regio3', 'description', 'facilities', 'heatingCosts',\n",
       "       'energyEfficiencyClass', 'lastRefurbish', 'electricityBasePrice',\n",
       "       'electricityKwhPrice', 'date'],\n",
       "      dtype='object')"
      ]
     },
     "execution_count": 6,
     "metadata": {},
     "output_type": "execute_result"
    }
   ],
   "source": [
    "df.columns"
   ]
  },
  {
   "cell_type": "code",
   "execution_count": null,
   "id": "ff97953d-278a-438b-bff5-9c2d6977ec16",
   "metadata": {},
   "outputs": [],
   "source": []
  },
  {
   "cell_type": "code",
   "execution_count": null,
   "id": "714329f3-2ba3-449e-bc58-47dcfad68b5a",
   "metadata": {},
   "outputs": [],
   "source": []
  },
  {
   "cell_type": "code",
   "execution_count": null,
   "id": "7872ab02-a49b-4980-b2ea-62b915ad63c6",
   "metadata": {},
   "outputs": [],
   "source": []
  },
  {
   "cell_type": "code",
   "execution_count": 7,
   "id": "1d438496-819d-4ffc-af7a-9459c88fb2b9",
   "metadata": {},
   "outputs": [],
   "source": [
    "df[\"Muenchen\"] = df[\"regio2\"] == \"München\""
   ]
  },
  {
   "cell_type": "code",
   "execution_count": 8,
   "id": "e7b6d006-4481-4d80-825f-79d910cfec58",
   "metadata": {},
   "outputs": [],
   "source": [
    "features = [\"yearConstructed\", \"livingSpace\", \"telekomUploadSpeed\", \"lastRefurbish\", \"Muenchen\", \"serviceCharge\", \"balcony\"]\n",
    "y = \"totalRent\"\n",
    "X = df[features].copy()"
   ]
  },
  {
   "cell_type": "code",
   "execution_count": 9,
   "id": "24d21c69-d6fc-4aaf-8dd7-6e398b34e975",
   "metadata": {},
   "outputs": [],
   "source": [
    "df_model = df[features + [y]].copy()"
   ]
  },
  {
   "cell_type": "code",
   "execution_count": 10,
   "id": "d78301f9-7d29-432e-864b-beaedb5a4763",
   "metadata": {},
   "outputs": [],
   "source": [
    "df_model.rename(columns={\n",
    "    \"balcony\": \"Balkon\",\n",
    "    \"yearConstructed\": \"Baujahr\",\n",
    "    \"livingSpace\": \"Wohnflaeche\",\n",
    "    \"telekomUploadSpeed\": \"InetGeschwindigkeit\",\n",
    "    \"lastRefurbish\": \"RenovierungsJahr\",\n",
    "    \"serviceCharge\": \"ServiceGebuehr\",\n",
    "    \"totalRent\": \"GesamtMiete\"\n",
    "}, inplace=True)"
   ]
  },
  {
   "cell_type": "code",
   "execution_count": 11,
   "id": "a736ac09-7e77-435f-ac1e-7e99b49879e1",
   "metadata": {},
   "outputs": [],
   "source": [
    "df_model = df_model.dropna()\n",
    "df_model = df_model[df_model[\"RenovierungsJahr\"] <= 2026]\n",
    "df_model = df_model.reset_index(drop=True)"
   ]
  },
  {
   "cell_type": "code",
   "execution_count": 12,
   "id": "06202228-0c1a-4ba8-8bb7-f71ca4eafbb5",
   "metadata": {},
   "outputs": [],
   "source": [
    "df_model[\"Muenchen\"] = LabelEncoder().fit_transform(df_model[\"Muenchen\"])\n"
   ]
  },
  {
   "cell_type": "code",
   "execution_count": 13,
   "id": "c2255963-a0bc-42d3-bce9-279efdcf9c8d",
   "metadata": {},
   "outputs": [
    {
     "data": {
      "text/plain": [
       "np.int64(0)"
      ]
     },
     "execution_count": 13,
     "metadata": {},
     "output_type": "execute_result"
    }
   ],
   "source": [
    "df_model[\"Muenchen\"].isnull().sum()\n",
    "\n"
   ]
  },
  {
   "cell_type": "code",
   "execution_count": 14,
   "id": "a3b64a5d-fddc-4a9e-8595-27ae9a2bb7d7",
   "metadata": {},
   "outputs": [
    {
     "data": {
      "text/plain": [
       "np.int64(0)"
      ]
     },
     "execution_count": 14,
     "metadata": {},
     "output_type": "execute_result"
    }
   ],
   "source": [
    "df_model[\"Balkon\"].isnull().sum()"
   ]
  },
  {
   "cell_type": "code",
   "execution_count": 15,
   "id": "e9ccf151-59cd-4a52-8fc8-dc5268cdbb87",
   "metadata": {},
   "outputs": [],
   "source": [
    "df_model[\"Balkon\"] = LabelEncoder().fit_transform(df_model[\"Balkon\"])"
   ]
  },
  {
   "cell_type": "code",
   "execution_count": 16,
   "id": "785101f1-deda-41d1-98b3-f87918aab678",
   "metadata": {},
   "outputs": [
    {
     "data": {
      "text/html": [
       "<div>\n",
       "<style scoped>\n",
       "    .dataframe tbody tr th:only-of-type {\n",
       "        vertical-align: middle;\n",
       "    }\n",
       "\n",
       "    .dataframe tbody tr th {\n",
       "        vertical-align: top;\n",
       "    }\n",
       "\n",
       "    .dataframe thead th {\n",
       "        text-align: right;\n",
       "    }\n",
       "</style>\n",
       "<table border=\"1\" class=\"dataframe\">\n",
       "  <thead>\n",
       "    <tr style=\"text-align: right;\">\n",
       "      <th></th>\n",
       "      <th>Baujahr</th>\n",
       "      <th>Wohnflaeche</th>\n",
       "      <th>InetGeschwindigkeit</th>\n",
       "      <th>RenovierungsJahr</th>\n",
       "      <th>Muenchen</th>\n",
       "      <th>ServiceGebuehr</th>\n",
       "      <th>Balkon</th>\n",
       "      <th>GesamtMiete</th>\n",
       "    </tr>\n",
       "  </thead>\n",
       "  <tbody>\n",
       "    <tr>\n",
       "      <th>0</th>\n",
       "      <td>1936.0</td>\n",
       "      <td>50.0</td>\n",
       "      <td>40.0</td>\n",
       "      <td>2017.0</td>\n",
       "      <td>0</td>\n",
       "      <td>120.0</td>\n",
       "      <td>1</td>\n",
       "      <td>720.00</td>\n",
       "    </tr>\n",
       "    <tr>\n",
       "      <th>1</th>\n",
       "      <td>1999.0</td>\n",
       "      <td>82.0</td>\n",
       "      <td>40.0</td>\n",
       "      <td>2016.0</td>\n",
       "      <td>0</td>\n",
       "      <td>200.0</td>\n",
       "      <td>1</td>\n",
       "      <td>1350.00</td>\n",
       "    </tr>\n",
       "    <tr>\n",
       "      <th>2</th>\n",
       "      <td>1993.0</td>\n",
       "      <td>170.0</td>\n",
       "      <td>10.0</td>\n",
       "      <td>2009.0</td>\n",
       "      <td>0</td>\n",
       "      <td>270.0</td>\n",
       "      <td>1</td>\n",
       "      <td>1170.00</td>\n",
       "    </tr>\n",
       "    <tr>\n",
       "      <th>3</th>\n",
       "      <td>1920.0</td>\n",
       "      <td>102.0</td>\n",
       "      <td>40.0</td>\n",
       "      <td>2015.0</td>\n",
       "      <td>0</td>\n",
       "      <td>165.0</td>\n",
       "      <td>0</td>\n",
       "      <td>735.00</td>\n",
       "    </tr>\n",
       "    <tr>\n",
       "      <th>4</th>\n",
       "      <td>2008.0</td>\n",
       "      <td>160.0</td>\n",
       "      <td>40.0</td>\n",
       "      <td>2019.0</td>\n",
       "      <td>0</td>\n",
       "      <td>300.0</td>\n",
       "      <td>0</td>\n",
       "      <td>2250.00</td>\n",
       "    </tr>\n",
       "    <tr>\n",
       "      <th>...</th>\n",
       "      <td>...</td>\n",
       "      <td>...</td>\n",
       "      <td>...</td>\n",
       "      <td>...</td>\n",
       "      <td>...</td>\n",
       "      <td>...</td>\n",
       "      <td>...</td>\n",
       "      <td>...</td>\n",
       "    </tr>\n",
       "    <tr>\n",
       "      <th>4321</th>\n",
       "      <td>1980.0</td>\n",
       "      <td>106.9</td>\n",
       "      <td>40.0</td>\n",
       "      <td>2019.0</td>\n",
       "      <td>1</td>\n",
       "      <td>165.0</td>\n",
       "      <td>1</td>\n",
       "      <td>1810.17</td>\n",
       "    </tr>\n",
       "    <tr>\n",
       "      <th>4322</th>\n",
       "      <td>1990.0</td>\n",
       "      <td>114.0</td>\n",
       "      <td>40.0</td>\n",
       "      <td>2017.0</td>\n",
       "      <td>0</td>\n",
       "      <td>285.0</td>\n",
       "      <td>1</td>\n",
       "      <td>1539.00</td>\n",
       "    </tr>\n",
       "    <tr>\n",
       "      <th>4323</th>\n",
       "      <td>1985.0</td>\n",
       "      <td>31.0</td>\n",
       "      <td>2.4</td>\n",
       "      <td>2019.0</td>\n",
       "      <td>1</td>\n",
       "      <td>0.0</td>\n",
       "      <td>1</td>\n",
       "      <td>1290.00</td>\n",
       "    </tr>\n",
       "    <tr>\n",
       "      <th>4324</th>\n",
       "      <td>1960.0</td>\n",
       "      <td>55.0</td>\n",
       "      <td>40.0</td>\n",
       "      <td>2015.0</td>\n",
       "      <td>0</td>\n",
       "      <td>120.0</td>\n",
       "      <td>0</td>\n",
       "      <td>670.00</td>\n",
       "    </tr>\n",
       "    <tr>\n",
       "      <th>4325</th>\n",
       "      <td>1900.0</td>\n",
       "      <td>65.0</td>\n",
       "      <td>10.0</td>\n",
       "      <td>2017.0</td>\n",
       "      <td>1</td>\n",
       "      <td>100.0</td>\n",
       "      <td>1</td>\n",
       "      <td>1980.00</td>\n",
       "    </tr>\n",
       "  </tbody>\n",
       "</table>\n",
       "<p>4326 rows × 8 columns</p>\n",
       "</div>"
      ],
      "text/plain": [
       "      Baujahr  Wohnflaeche  InetGeschwindigkeit  RenovierungsJahr  Muenchen  \\\n",
       "0      1936.0         50.0                 40.0            2017.0         0   \n",
       "1      1999.0         82.0                 40.0            2016.0         0   \n",
       "2      1993.0        170.0                 10.0            2009.0         0   \n",
       "3      1920.0        102.0                 40.0            2015.0         0   \n",
       "4      2008.0        160.0                 40.0            2019.0         0   \n",
       "...       ...          ...                  ...               ...       ...   \n",
       "4321   1980.0        106.9                 40.0            2019.0         1   \n",
       "4322   1990.0        114.0                 40.0            2017.0         0   \n",
       "4323   1985.0         31.0                  2.4            2019.0         1   \n",
       "4324   1960.0         55.0                 40.0            2015.0         0   \n",
       "4325   1900.0         65.0                 10.0            2017.0         1   \n",
       "\n",
       "     ServiceGebuehr  Balkon  GesamtMiete  \n",
       "0             120.0       1       720.00  \n",
       "1             200.0       1      1350.00  \n",
       "2             270.0       1      1170.00  \n",
       "3             165.0       0       735.00  \n",
       "4             300.0       0      2250.00  \n",
       "...             ...     ...          ...  \n",
       "4321          165.0       1      1810.17  \n",
       "4322          285.0       1      1539.00  \n",
       "4323            0.0       1      1290.00  \n",
       "4324          120.0       0       670.00  \n",
       "4325          100.0       1      1980.00  \n",
       "\n",
       "[4326 rows x 8 columns]"
      ]
     },
     "execution_count": 16,
     "metadata": {},
     "output_type": "execute_result"
    }
   ],
   "source": [
    "df_model"
   ]
  },
  {
   "cell_type": "code",
   "execution_count": 17,
   "id": "efdc9333-e9d2-4537-93bc-50bf09d6f58a",
   "metadata": {},
   "outputs": [
    {
     "data": {
      "text/plain": [
       "Baujahr                0\n",
       "Wohnflaeche            0\n",
       "InetGeschwindigkeit    0\n",
       "RenovierungsJahr       0\n",
       "Muenchen               0\n",
       "ServiceGebuehr         0\n",
       "Balkon                 0\n",
       "GesamtMiete            0\n",
       "dtype: int64"
      ]
     },
     "execution_count": 17,
     "metadata": {},
     "output_type": "execute_result"
    }
   ],
   "source": [
    "df_model.isnull().sum()\n"
   ]
  },
  {
   "cell_type": "code",
   "execution_count": 18,
   "id": "a64dc965-c62f-485d-8d8d-d39a23c6e881",
   "metadata": {},
   "outputs": [
    {
     "data": {
      "text/plain": [
       "np.int64(0)"
      ]
     },
     "execution_count": 18,
     "metadata": {},
     "output_type": "execute_result"
    }
   ],
   "source": [
    "(df_model[\"Baujahr\"] > 2020).sum()"
   ]
  },
  {
   "cell_type": "code",
   "execution_count": 19,
   "id": "9f35b508-1c71-4f48-9942-9e795eba5ed5",
   "metadata": {},
   "outputs": [],
   "source": [
    "X = df_model.drop(columns=\"GesamtMiete\")\n",
    "y = df_model[\"GesamtMiete\"]"
   ]
  },
  {
   "cell_type": "code",
   "execution_count": 20,
   "id": "f77ec08b-77cb-460d-b1fa-7ec8f74709f9",
   "metadata": {},
   "outputs": [],
   "source": [
    "X_train, X_test, y_train, y_test = train_test_split(X, y, test_size=0.2, random_state=42)\n",
    "X_train, X_val, y_train, y_val = train_test_split(X, y, test_size=0.2, random_state=42)"
   ]
  },
  {
   "cell_type": "code",
   "execution_count": 21,
   "id": "7627bd29-0907-4dae-a260-6f36d09d250a",
   "metadata": {
    "scrolled": true
   },
   "outputs": [],
   "source": [
    "scaler=StandardScaler()\n",
    "outScaler=StandardScaler()"
   ]
  },
  {
   "cell_type": "code",
   "execution_count": 22,
   "id": "b3392afd-0b16-47eb-b752-cf296c443ffb",
   "metadata": {},
   "outputs": [],
   "source": [
    "X_train = scaler.fit_transform(X_train)\n",
    "X_test= scaler.transform(X_test)\n",
    "\n",
    "X_val= scaler.transform(X_val)"
   ]
  },
  {
   "cell_type": "code",
   "execution_count": 23,
   "id": "bad83143-e666-4c0a-acc1-fc384fa5f362",
   "metadata": {},
   "outputs": [
    {
     "data": {
      "text/html": [
       "<div>\n",
       "<style scoped>\n",
       "    .dataframe tbody tr th:only-of-type {\n",
       "        vertical-align: middle;\n",
       "    }\n",
       "\n",
       "    .dataframe tbody tr th {\n",
       "        vertical-align: top;\n",
       "    }\n",
       "\n",
       "    .dataframe thead th {\n",
       "        text-align: right;\n",
       "    }\n",
       "</style>\n",
       "<table border=\"1\" class=\"dataframe\">\n",
       "  <thead>\n",
       "    <tr style=\"text-align: right;\">\n",
       "      <th></th>\n",
       "      <th>Baujahr</th>\n",
       "      <th>Wohnflaeche</th>\n",
       "      <th>InetGeschwindigkeit</th>\n",
       "      <th>RenovierungsJahr</th>\n",
       "      <th>Muenchen</th>\n",
       "      <th>ServiceGebuehr</th>\n",
       "      <th>Balkon</th>\n",
       "    </tr>\n",
       "  </thead>\n",
       "  <tbody>\n",
       "    <tr>\n",
       "      <th>0</th>\n",
       "      <td>0.212468</td>\n",
       "      <td>0.051126</td>\n",
       "      <td>0.658933</td>\n",
       "      <td>-1.388078</td>\n",
       "      <td>-0.570675</td>\n",
       "      <td>0.843522</td>\n",
       "      <td>0.577795</td>\n",
       "    </tr>\n",
       "    <tr>\n",
       "      <th>1</th>\n",
       "      <td>0.763755</td>\n",
       "      <td>0.007929</td>\n",
       "      <td>0.658933</td>\n",
       "      <td>-0.348207</td>\n",
       "      <td>-0.570675</td>\n",
       "      <td>0.617187</td>\n",
       "      <td>0.577795</td>\n",
       "    </tr>\n",
       "    <tr>\n",
       "      <th>2</th>\n",
       "      <td>-0.176675</td>\n",
       "      <td>-0.027697</td>\n",
       "      <td>0.658933</td>\n",
       "      <td>0.483690</td>\n",
       "      <td>1.752309</td>\n",
       "      <td>2.110996</td>\n",
       "      <td>0.577795</td>\n",
       "    </tr>\n",
       "    <tr>\n",
       "      <th>3</th>\n",
       "      <td>0.844826</td>\n",
       "      <td>0.039992</td>\n",
       "      <td>0.658933</td>\n",
       "      <td>0.691665</td>\n",
       "      <td>-0.570675</td>\n",
       "      <td>1.975195</td>\n",
       "      <td>0.577795</td>\n",
       "    </tr>\n",
       "    <tr>\n",
       "      <th>4</th>\n",
       "      <td>-0.111818</td>\n",
       "      <td>-0.025025</td>\n",
       "      <td>0.658933</td>\n",
       "      <td>-0.140232</td>\n",
       "      <td>-0.570675</td>\n",
       "      <td>-0.627653</td>\n",
       "      <td>-1.730717</td>\n",
       "    </tr>\n",
       "  </tbody>\n",
       "</table>\n",
       "</div>"
      ],
      "text/plain": [
       "    Baujahr  Wohnflaeche  InetGeschwindigkeit  RenovierungsJahr  Muenchen  \\\n",
       "0  0.212468     0.051126             0.658933         -1.388078 -0.570675   \n",
       "1  0.763755     0.007929             0.658933         -0.348207 -0.570675   \n",
       "2 -0.176675    -0.027697             0.658933          0.483690  1.752309   \n",
       "3  0.844826     0.039992             0.658933          0.691665 -0.570675   \n",
       "4 -0.111818    -0.025025             0.658933         -0.140232 -0.570675   \n",
       "\n",
       "   ServiceGebuehr    Balkon  \n",
       "0        0.843522  0.577795  \n",
       "1        0.617187  0.577795  \n",
       "2        2.110996  0.577795  \n",
       "3        1.975195  0.577795  \n",
       "4       -0.627653 -1.730717  "
      ]
     },
     "execution_count": 23,
     "metadata": {},
     "output_type": "execute_result"
    }
   ],
   "source": [
    "X_train_df = pd.DataFrame(X_train, columns=X.columns) ##Hier wird aus X_train ein Pandas DataFrame gebaut.\n",
    "\n",
    "##Damit die Spaltennamen nicht verloren gehen, werden sie von X.columns übernommen (also von\n",
    "X_train_df.head(5)"
   ]
  },
  {
   "cell_type": "code",
   "execution_count": 24,
   "id": "d421610b-4fa3-47af-b95d-39556e398ffb",
   "metadata": {},
   "outputs": [],
   "source": [
    "y_train = outScaler.fit_transform(pd.DataFrame(y_train))\n",
    "y_test = outScaler.transform(pd.DataFrame(y_test))  \n",
    "\n",
    "y_val = outScaler.transform(pd.DataFrame(y_val))                            ##Wenn du ein reines 1D-Array \n",
    "                                                                                ##übergibst, gibt es oft einen Fehler oder eine Warnung."
   ]
  },
  {
   "cell_type": "code",
   "execution_count": 25,
   "id": "f85d8b0e-657b-4241-8c1e-ac9303d52e5f",
   "metadata": {},
   "outputs": [
    {
     "name": "stdout",
     "output_type": "stream",
     "text": [
      "2.20.0\n"
     ]
    }
   ],
   "source": [
    "\n",
    "print(tf.__version__)\n"
   ]
  },
  {
   "cell_type": "code",
   "execution_count": 26,
   "id": "6003dbfa-be8f-40db-b81c-3102fe054011",
   "metadata": {},
   "outputs": [],
   "source": [
    "#Define the model\n",
    "\n",
    "model = Sequential([\n",
    "    Input(shape=(X_train.shape[1],)),\n",
    "    Dense(64, activation = \"relu\"), \n",
    "    Dense(32, activation = \"relu\"),\n",
    "    Dense(1)\n",
    "])"
   ]
  },
  {
   "cell_type": "code",
   "execution_count": 27,
   "id": "25308eaa-4e63-43cd-82c9-b97c655dc151",
   "metadata": {},
   "outputs": [],
   "source": [
    "#Compile the model\n",
    "\n",
    "model.compile(\n",
    "    optimizer = \"adam\",\n",
    "    loss = \"mse\",\n",
    "    metrics=[\"mae\"]\n",
    ")\n",
    "\n"
   ]
  },
  {
   "cell_type": "code",
   "execution_count": 28,
   "id": "5df6cc2f-347b-44b5-9d7e-7dda60ca6115",
   "metadata": {},
   "outputs": [
    {
     "name": "stdout",
     "output_type": "stream",
     "text": [
      "Epoch 1/50\n",
      "\u001b[1m109/109\u001b[0m \u001b[32m━━━━━━━━━━━━━━━━━━━━\u001b[0m\u001b[37m\u001b[0m \u001b[1m2s\u001b[0m 5ms/step - loss: 0.4698 - mae: 0.4433 - val_loss: 0.3456 - val_mae: 0.3973\n",
      "Epoch 2/50\n",
      "\u001b[1m109/109\u001b[0m \u001b[32m━━━━━━━━━━━━━━━━━━━━\u001b[0m\u001b[37m\u001b[0m \u001b[1m0s\u001b[0m 3ms/step - loss: 0.3766 - mae: 0.3970 - val_loss: 0.3321 - val_mae: 0.3830\n",
      "Epoch 3/50\n",
      "\u001b[1m109/109\u001b[0m \u001b[32m━━━━━━━━━━━━━━━━━━━━\u001b[0m\u001b[37m\u001b[0m \u001b[1m0s\u001b[0m 4ms/step - loss: 0.3414 - mae: 0.3870 - val_loss: 0.3214 - val_mae: 0.3764\n",
      "Epoch 4/50\n",
      "\u001b[1m109/109\u001b[0m \u001b[32m━━━━━━━━━━━━━━━━━━━━\u001b[0m\u001b[37m\u001b[0m \u001b[1m0s\u001b[0m 3ms/step - loss: 0.3486 - mae: 0.3782 - val_loss: 0.3127 - val_mae: 0.3761\n",
      "Epoch 5/50\n",
      "\u001b[1m109/109\u001b[0m \u001b[32m━━━━━━━━━━━━━━━━━━━━\u001b[0m\u001b[37m\u001b[0m \u001b[1m0s\u001b[0m 3ms/step - loss: 0.3562 - mae: 0.3818 - val_loss: 0.3138 - val_mae: 0.3763\n",
      "Epoch 6/50\n",
      "\u001b[1m109/109\u001b[0m \u001b[32m━━━━━━━━━━━━━━━━━━━━\u001b[0m\u001b[37m\u001b[0m \u001b[1m0s\u001b[0m 3ms/step - loss: 0.3301 - mae: 0.3741 - val_loss: 0.3100 - val_mae: 0.3703\n",
      "Epoch 7/50\n",
      "\u001b[1m109/109\u001b[0m \u001b[32m━━━━━━━━━━━━━━━━━━━━\u001b[0m\u001b[37m\u001b[0m \u001b[1m0s\u001b[0m 3ms/step - loss: 0.3127 - mae: 0.3657 - val_loss: 0.3020 - val_mae: 0.3707\n",
      "Epoch 8/50\n",
      "\u001b[1m109/109\u001b[0m \u001b[32m━━━━━━━━━━━━━━━━━━━━\u001b[0m\u001b[37m\u001b[0m \u001b[1m0s\u001b[0m 3ms/step - loss: 0.3092 - mae: 0.3641 - val_loss: 0.2981 - val_mae: 0.3586\n",
      "Epoch 9/50\n",
      "\u001b[1m109/109\u001b[0m \u001b[32m━━━━━━━━━━━━━━━━━━━━\u001b[0m\u001b[37m\u001b[0m \u001b[1m0s\u001b[0m 3ms/step - loss: 0.2982 - mae: 0.3578 - val_loss: 0.2904 - val_mae: 0.3617\n",
      "Epoch 10/50\n",
      "\u001b[1m109/109\u001b[0m \u001b[32m━━━━━━━━━━━━━━━━━━━━\u001b[0m\u001b[37m\u001b[0m \u001b[1m0s\u001b[0m 3ms/step - loss: 0.2913 - mae: 0.3520 - val_loss: 0.2782 - val_mae: 0.3582\n",
      "Epoch 11/50\n",
      "\u001b[1m109/109\u001b[0m \u001b[32m━━━━━━━━━━━━━━━━━━━━\u001b[0m\u001b[37m\u001b[0m \u001b[1m0s\u001b[0m 3ms/step - loss: 0.2841 - mae: 0.3465 - val_loss: 0.2779 - val_mae: 0.3516\n",
      "Epoch 12/50\n",
      "\u001b[1m109/109\u001b[0m \u001b[32m━━━━━━━━━━━━━━━━━━━━\u001b[0m\u001b[37m\u001b[0m \u001b[1m0s\u001b[0m 3ms/step - loss: 0.2954 - mae: 0.3467 - val_loss: 0.2662 - val_mae: 0.3557\n",
      "Epoch 13/50\n",
      "\u001b[1m109/109\u001b[0m \u001b[32m━━━━━━━━━━━━━━━━━━━━\u001b[0m\u001b[37m\u001b[0m \u001b[1m0s\u001b[0m 3ms/step - loss: 0.2987 - mae: 0.3415 - val_loss: 0.2576 - val_mae: 0.3500\n",
      "Epoch 14/50\n",
      "\u001b[1m109/109\u001b[0m \u001b[32m━━━━━━━━━━━━━━━━━━━━\u001b[0m\u001b[37m\u001b[0m \u001b[1m0s\u001b[0m 3ms/step - loss: 0.2961 - mae: 0.3387 - val_loss: 0.2462 - val_mae: 0.3271\n",
      "Epoch 15/50\n",
      "\u001b[1m109/109\u001b[0m \u001b[32m━━━━━━━━━━━━━━━━━━━━\u001b[0m\u001b[37m\u001b[0m \u001b[1m0s\u001b[0m 3ms/step - loss: 0.2571 - mae: 0.3252 - val_loss: 0.2303 - val_mae: 0.3207\n",
      "Epoch 16/50\n",
      "\u001b[1m109/109\u001b[0m \u001b[32m━━━━━━━━━━━━━━━━━━━━\u001b[0m\u001b[37m\u001b[0m \u001b[1m0s\u001b[0m 3ms/step - loss: 0.2400 - mae: 0.3175 - val_loss: 0.2235 - val_mae: 0.3187\n",
      "Epoch 17/50\n",
      "\u001b[1m109/109\u001b[0m \u001b[32m━━━━━━━━━━━━━━━━━━━━\u001b[0m\u001b[37m\u001b[0m \u001b[1m0s\u001b[0m 4ms/step - loss: 0.2299 - mae: 0.3149 - val_loss: 0.2140 - val_mae: 0.3125\n",
      "Epoch 18/50\n",
      "\u001b[1m109/109\u001b[0m \u001b[32m━━━━━━━━━━━━━━━━━━━━\u001b[0m\u001b[37m\u001b[0m \u001b[1m0s\u001b[0m 3ms/step - loss: 0.2226 - mae: 0.3073 - val_loss: 0.2057 - val_mae: 0.3122\n",
      "Epoch 19/50\n",
      "\u001b[1m109/109\u001b[0m \u001b[32m━━━━━━━━━━━━━━━━━━━━\u001b[0m\u001b[37m\u001b[0m \u001b[1m0s\u001b[0m 3ms/step - loss: 0.2139 - mae: 0.3056 - val_loss: 0.1960 - val_mae: 0.3105\n",
      "Epoch 20/50\n",
      "\u001b[1m109/109\u001b[0m \u001b[32m━━━━━━━━━━━━━━━━━━━━\u001b[0m\u001b[37m\u001b[0m \u001b[1m0s\u001b[0m 3ms/step - loss: 0.2073 - mae: 0.3016 - val_loss: 0.1984 - val_mae: 0.3019\n",
      "Epoch 21/50\n",
      "\u001b[1m109/109\u001b[0m \u001b[32m━━━━━━━━━━━━━━━━━━━━\u001b[0m\u001b[37m\u001b[0m \u001b[1m0s\u001b[0m 3ms/step - loss: 0.1964 - mae: 0.2960 - val_loss: 0.1824 - val_mae: 0.2963\n",
      "Epoch 22/50\n",
      "\u001b[1m109/109\u001b[0m \u001b[32m━━━━━━━━━━━━━━━━━━━━\u001b[0m\u001b[37m\u001b[0m \u001b[1m0s\u001b[0m 3ms/step - loss: 0.1932 - mae: 0.2933 - val_loss: 0.1825 - val_mae: 0.2943\n",
      "Epoch 23/50\n",
      "\u001b[1m109/109\u001b[0m \u001b[32m━━━━━━━━━━━━━━━━━━━━\u001b[0m\u001b[37m\u001b[0m \u001b[1m0s\u001b[0m 4ms/step - loss: 0.1942 - mae: 0.2953 - val_loss: 0.1738 - val_mae: 0.2963\n",
      "Epoch 24/50\n",
      "\u001b[1m109/109\u001b[0m \u001b[32m━━━━━━━━━━━━━━━━━━━━\u001b[0m\u001b[37m\u001b[0m \u001b[1m0s\u001b[0m 3ms/step - loss: 0.1988 - mae: 0.2902 - val_loss: 0.1833 - val_mae: 0.2921\n",
      "Epoch 25/50\n",
      "\u001b[1m109/109\u001b[0m \u001b[32m━━━━━━━━━━━━━━━━━━━━\u001b[0m\u001b[37m\u001b[0m \u001b[1m0s\u001b[0m 3ms/step - loss: 0.2062 - mae: 0.2993 - val_loss: 0.1825 - val_mae: 0.2930\n",
      "Epoch 26/50\n",
      "\u001b[1m109/109\u001b[0m \u001b[32m━━━━━━━━━━━━━━━━━━━━\u001b[0m\u001b[37m\u001b[0m \u001b[1m0s\u001b[0m 3ms/step - loss: 0.1798 - mae: 0.2841 - val_loss: 0.1636 - val_mae: 0.2774\n",
      "Epoch 27/50\n",
      "\u001b[1m109/109\u001b[0m \u001b[32m━━━━━━━━━━━━━━━━━━━━\u001b[0m\u001b[37m\u001b[0m \u001b[1m0s\u001b[0m 3ms/step - loss: 0.1675 - mae: 0.2801 - val_loss: 0.1626 - val_mae: 0.2835\n",
      "Epoch 28/50\n",
      "\u001b[1m109/109\u001b[0m \u001b[32m━━━━━━━━━━━━━━━━━━━━\u001b[0m\u001b[37m\u001b[0m \u001b[1m0s\u001b[0m 3ms/step - loss: 0.1656 - mae: 0.2792 - val_loss: 0.1584 - val_mae: 0.2782\n",
      "Epoch 29/50\n",
      "\u001b[1m109/109\u001b[0m \u001b[32m━━━━━━━━━━━━━━━━━━━━\u001b[0m\u001b[37m\u001b[0m \u001b[1m0s\u001b[0m 3ms/step - loss: 0.1634 - mae: 0.2787 - val_loss: 0.1539 - val_mae: 0.2738\n",
      "Epoch 30/50\n",
      "\u001b[1m109/109\u001b[0m \u001b[32m━━━━━━━━━━━━━━━━━━━━\u001b[0m\u001b[37m\u001b[0m \u001b[1m0s\u001b[0m 3ms/step - loss: 0.1612 - mae: 0.2749 - val_loss: 0.1776 - val_mae: 0.2846\n",
      "Epoch 31/50\n",
      "\u001b[1m109/109\u001b[0m \u001b[32m━━━━━━━━━━━━━━━━━━━━\u001b[0m\u001b[37m\u001b[0m \u001b[1m0s\u001b[0m 4ms/step - loss: 0.1670 - mae: 0.2811 - val_loss: 0.1594 - val_mae: 0.2828\n",
      "Epoch 32/50\n",
      "\u001b[1m109/109\u001b[0m \u001b[32m━━━━━━━━━━━━━━━━━━━━\u001b[0m\u001b[37m\u001b[0m \u001b[1m0s\u001b[0m 3ms/step - loss: 0.1585 - mae: 0.2747 - val_loss: 0.1508 - val_mae: 0.2745\n",
      "Epoch 33/50\n",
      "\u001b[1m109/109\u001b[0m \u001b[32m━━━━━━━━━━━━━━━━━━━━\u001b[0m\u001b[37m\u001b[0m \u001b[1m0s\u001b[0m 3ms/step - loss: 0.1606 - mae: 0.2767 - val_loss: 0.1553 - val_mae: 0.2780\n",
      "Epoch 34/50\n",
      "\u001b[1m109/109\u001b[0m \u001b[32m━━━━━━━━━━━━━━━━━━━━\u001b[0m\u001b[37m\u001b[0m \u001b[1m0s\u001b[0m 3ms/step - loss: 0.1631 - mae: 0.2799 - val_loss: 0.1542 - val_mae: 0.2733\n",
      "Epoch 35/50\n",
      "\u001b[1m109/109\u001b[0m \u001b[32m━━━━━━━━━━━━━━━━━━━━\u001b[0m\u001b[37m\u001b[0m \u001b[1m0s\u001b[0m 3ms/step - loss: 0.1540 - mae: 0.2695 - val_loss: 0.1608 - val_mae: 0.2772\n",
      "Epoch 36/50\n",
      "\u001b[1m109/109\u001b[0m \u001b[32m━━━━━━━━━━━━━━━━━━━━\u001b[0m\u001b[37m\u001b[0m \u001b[1m0s\u001b[0m 3ms/step - loss: 0.1538 - mae: 0.2705 - val_loss: 0.1558 - val_mae: 0.2770\n",
      "Epoch 37/50\n",
      "\u001b[1m109/109\u001b[0m \u001b[32m━━━━━━━━━━━━━━━━━━━━\u001b[0m\u001b[37m\u001b[0m \u001b[1m0s\u001b[0m 3ms/step - loss: 0.1539 - mae: 0.2719 - val_loss: 0.1568 - val_mae: 0.2757\n",
      "Epoch 38/50\n",
      "\u001b[1m109/109\u001b[0m \u001b[32m━━━━━━━━━━━━━━━━━━━━\u001b[0m\u001b[37m\u001b[0m \u001b[1m0s\u001b[0m 3ms/step - loss: 0.1612 - mae: 0.2746 - val_loss: 0.1637 - val_mae: 0.2765\n",
      "Epoch 39/50\n",
      "\u001b[1m109/109\u001b[0m \u001b[32m━━━━━━━━━━━━━━━━━━━━\u001b[0m\u001b[37m\u001b[0m \u001b[1m0s\u001b[0m 3ms/step - loss: 0.1757 - mae: 0.2804 - val_loss: 0.1771 - val_mae: 0.2960\n",
      "Epoch 40/50\n",
      "\u001b[1m109/109\u001b[0m \u001b[32m━━━━━━━━━━━━━━━━━━━━\u001b[0m\u001b[37m\u001b[0m \u001b[1m0s\u001b[0m 3ms/step - loss: 0.1850 - mae: 0.2836 - val_loss: 0.1563 - val_mae: 0.2773\n",
      "Epoch 41/50\n",
      "\u001b[1m109/109\u001b[0m \u001b[32m━━━━━━━━━━━━━━━━━━━━\u001b[0m\u001b[37m\u001b[0m \u001b[1m0s\u001b[0m 3ms/step - loss: 0.1572 - mae: 0.2718 - val_loss: 0.1531 - val_mae: 0.2795\n",
      "Epoch 42/50\n",
      "\u001b[1m109/109\u001b[0m \u001b[32m━━━━━━━━━━━━━━━━━━━━\u001b[0m\u001b[37m\u001b[0m \u001b[1m0s\u001b[0m 3ms/step - loss: 0.1541 - mae: 0.2707 - val_loss: 0.1517 - val_mae: 0.2731\n",
      "Epoch 43/50\n",
      "\u001b[1m109/109\u001b[0m \u001b[32m━━━━━━━━━━━━━━━━━━━━\u001b[0m\u001b[37m\u001b[0m \u001b[1m0s\u001b[0m 3ms/step - loss: 0.1526 - mae: 0.2701 - val_loss: 0.1630 - val_mae: 0.2897\n",
      "Epoch 44/50\n",
      "\u001b[1m109/109\u001b[0m \u001b[32m━━━━━━━━━━━━━━━━━━━━\u001b[0m\u001b[37m\u001b[0m \u001b[1m0s\u001b[0m 3ms/step - loss: 0.1502 - mae: 0.2705 - val_loss: 0.1629 - val_mae: 0.2752\n",
      "Epoch 45/50\n",
      "\u001b[1m109/109\u001b[0m \u001b[32m━━━━━━━━━━━━━━━━━━━━\u001b[0m\u001b[37m\u001b[0m \u001b[1m0s\u001b[0m 3ms/step - loss: 0.1488 - mae: 0.2665 - val_loss: 0.1512 - val_mae: 0.2745\n",
      "Epoch 46/50\n",
      "\u001b[1m109/109\u001b[0m \u001b[32m━━━━━━━━━━━━━━━━━━━━\u001b[0m\u001b[37m\u001b[0m \u001b[1m0s\u001b[0m 4ms/step - loss: 0.1478 - mae: 0.2674 - val_loss: 0.1557 - val_mae: 0.2782\n",
      "Epoch 47/50\n",
      "\u001b[1m109/109\u001b[0m \u001b[32m━━━━━━━━━━━━━━━━━━━━\u001b[0m\u001b[37m\u001b[0m \u001b[1m0s\u001b[0m 4ms/step - loss: 0.1481 - mae: 0.2680 - val_loss: 0.1588 - val_mae: 0.2844\n",
      "Epoch 48/50\n",
      "\u001b[1m109/109\u001b[0m \u001b[32m━━━━━━━━━━━━━━━━━━━━\u001b[0m\u001b[37m\u001b[0m \u001b[1m0s\u001b[0m 3ms/step - loss: 0.1479 - mae: 0.2666 - val_loss: 0.1665 - val_mae: 0.2912\n",
      "Epoch 49/50\n",
      "\u001b[1m109/109\u001b[0m \u001b[32m━━━━━━━━━━━━━━━━━━━━\u001b[0m\u001b[37m\u001b[0m \u001b[1m0s\u001b[0m 3ms/step - loss: 0.1503 - mae: 0.2687 - val_loss: 0.1626 - val_mae: 0.2864\n",
      "Epoch 50/50\n",
      "\u001b[1m109/109\u001b[0m \u001b[32m━━━━━━━━━━━━━━━━━━━━\u001b[0m\u001b[37m\u001b[0m \u001b[1m0s\u001b[0m 4ms/step - loss: 0.1472 - mae: 0.2671 - val_loss: 0.1593 - val_mae: 0.2828\n"
     ]
    }
   ],
   "source": [
    "#Modell füttern bzw. trainieren\n",
    "\n",
    "history = model.fit(\n",
    "    X_train, y_train,\n",
    "    epochs = 50,\n",
    "    batch_size = 32,\n",
    "    validation_data = (X_val, y_val),\n",
    "    verbose = 1\n",
    ")\n"
   ]
  },
  {
   "cell_type": "code",
   "execution_count": 29,
   "id": "459e6e86-5b96-41d2-aee9-913800cd10ad",
   "metadata": {},
   "outputs": [
    {
     "data": {
      "image/png": "[encoded data removed]",
      "text/plain": [
       "<Figure size 1000x600 with 1 Axes>"
      ]
     },
     "metadata": {},
     "output_type": "display_data"
    }
   ],
   "source": [
    "plt.figure(figsize=(10,6))\n",
    "plt.plot(history.history['loss'], label='Train Loss (MSE)')\n",
    "plt.plot(history.history['val_loss'], label='Validation Loss (MSE)')\n",
    "plt.xlabel('Epochs')\n",
    "plt.ylabel('Loss')\n",
    "plt.title('Training vs Validation Loss')\n",
    "plt.legend()\n",
    "plt.show()"
   ]
  },
  {
   "cell_type": "code",
   "execution_count": 30,
   "id": "a94dee2c-275a-43fb-ba07-89fb90a5147c",
   "metadata": {},
   "outputs": [
    {
     "name": "stdout",
     "output_type": "stream",
     "text": [
      "\u001b[1m28/28\u001b[0m \u001b[32m━━━━━━━━━━━━━━━━━━━━\u001b[0m\u001b[37m\u001b[0m \u001b[1m0s\u001b[0m 3ms/step - loss: 0.1593 - mae: 0.2828\n"
     ]
    },
    {
     "data": {
      "text/plain": [
       "[0.1592937558889389, 0.2828342318534851]"
      ]
     },
     "execution_count": 30,
     "metadata": {},
     "output_type": "execute_result"
    }
   ],
   "source": [
    " model.evaluate(X_test, y_test, verbose=1)\n"
   ]
  },
  {
   "cell_type": "code",
   "execution_count": 31,
   "id": "45ea8317-fa77-4241-a307-0aff31e89bf6",
   "metadata": {},
   "outputs": [
    {
     "data": {
      "text/plain": [
       "np.float64(1228.2162020342118)"
      ]
     },
     "execution_count": 31,
     "metadata": {},
     "output_type": "execute_result"
    }
   ],
   "source": [
    "df_model[\"GesamtMiete\"].mean()"
   ]
  },
  {
   "cell_type": "code",
   "execution_count": 32,
   "id": "96356fa7-7356-4601-b416-92875cc656c7",
   "metadata": {},
   "outputs": [
    {
     "name": "stdout",
     "output_type": "stream",
     "text": [
      "4174.44\n"
     ]
    }
   ],
   "source": [
    "# MAE in skalierten Daten\n",
    "mae_scaled = 0.3236\n",
    "\n",
    "# Min und Max der Trainingsdaten\n",
    "y_min = df_model['GesamtMiete'].min()\n",
    "y_max = df_model['GesamtMiete'].max()\n",
    "\n",
    "# MAE zurückrechnen auf €\n",
    "mae_real = mae_scaled * (y_max - y_min)\n",
    "print(mae_real)\n"
   ]
  },
  {
   "cell_type": "code",
   "execution_count": 33,
   "id": "87bb496b-539f-422c-b7a0-6000be2320c5",
   "metadata": {},
   "outputs": [
    {
     "name": "stdout",
     "output_type": "stream",
     "text": [
      "246.36579083813584\n"
     ]
    }
   ],
   "source": [
    "# MAE in skalierten Daten\n",
    "mae_scaled = 0.3236\n",
    "\n",
    "# Standardabweichung der Trainingsdaten\n",
    "y_std = df_model['GesamtMiete'].std()\n",
    "\n",
    "# MAE zurückrechnen auf €\n",
    "mae_real = mae_scaled * y_std\n",
    "print(mae_real)\n"
   ]
  },
  {
   "cell_type": "code",
   "execution_count": null,
   "id": "2f9cd374-a545-450f-af70-8a3d8fd4476d",
   "metadata": {},
   "outputs": [],
   "source": []
  },
  {
   "cell_type": "code",
   "execution_count": null,
   "id": "2dd92672-465d-47d1-870d-d634cb5bcdd6",
   "metadata": {},
   "outputs": [],
   "source": []
  },
  {
   "cell_type": "code",
   "execution_count": null,
   "id": "e85665ec-4bd1-41ad-9e51-61347dbefb34",
   "metadata": {},
   "outputs": [],
   "source": []
  },
  {
   "cell_type": "code",
   "execution_count": null,
   "id": "84009463-f7b4-4243-8009-29b0a97494cb",
   "metadata": {},
   "outputs": [],
   "source": []
  },
  {
   "cell_type": "code",
   "execution_count": 34,
   "id": "70b505e6-aa66-4023-8b60-13c38f572fc3",
   "metadata": {},
   "outputs": [
    {
     "name": "stdout",
     "output_type": "stream",
     "text": [
      "\u001b[1m28/28\u001b[0m \u001b[32m━━━━━━━━━━━━━━━━━━━━\u001b[0m\u001b[37m\u001b[0m \u001b[1m0s\u001b[0m 4ms/step\n"
     ]
    }
   ],
   "source": [
    "# Now, im visualizing the model with Prediction\n",
    "y_pred_scaled = model.predict(X_test)\n",
    "y_pred = outScaler.inverse_transform(y_pred_scaled)\n",
    "\n",
    "y_test_euro = outScaler.inverse_transform(y_test)"
   ]
  },
  {
   "cell_type": "code",
   "execution_count": 35,
   "id": "6e54efb7-b45f-4982-b21e-14d5b6ab8388",
   "metadata": {},
   "outputs": [
    {
     "data": {
      "image/png": "[encoded data removed]",
      "text/plain": [
       "<Figure size 640x480 with 1 Axes>"
      ]
     },
     "metadata": {},
     "output_type": "display_data"
    }
   ],
   "source": [
    "##Positive stare Korrelation zwischen Vorhersage und echte Mietpreisen\n",
    "plt.scatter(y_test_euro, y_pred)\n",
    "plt.xlabel(\"Echte Mietpreise (€)\")\n",
    "plt.ylabel(\"Vorhergesagte Mietpreise (€)\")\n",
    "plt.plot([y_test_euro.min(), y_test_euro.max()],\n",
    "         [y_test_euro.min(), y_test_euro.max()],\n",
    "         'r--')  # perfekte Vorhersage\n",
    "plt.show()"
   ]
  },
  {
   "cell_type": "code",
   "execution_count": 38,
   "id": "6e26bf38-c906-4a68-889a-27c18b10121f",
   "metadata": {},
   "outputs": [],
   "source": [
    "model.save(\"rent_price_pred.keras\")"
   ]
  },
  {
   "cell_type": "code",
   "execution_count": 41,
   "id": "bfde1235-c24d-42ff-b37a-c97465f8e4a4",
   "metadata": {},
   "outputs": [
    {
     "data": {
      "text/plain": [
       "['x_scaler.pkl']"
      ]
     },
     "execution_count": 41,
     "metadata": {},
     "output_type": "execute_result"
    }
   ],
   "source": [
    "import joblib\n",
    "\n",
    "joblib.dump(outScaler, \"y_scaler.pkl\")\n",
    "joblib.dump(scaler, \"x_scaler.pkl\")"
   ]
  },
  {
   "cell_type": "code",
   "execution_count": null,
   "id": "645a6539-78ea-403b-a8a5-c739d4878cf9",
   "metadata": {},
   "outputs": [],
   "source": []
  }
 ],
 "metadata": {
  "kernelspec": {
   "display_name": "Python 3 (ipykernel)",
   "language": "python",
   "name": "python3"
  },
  "language_info": {
   "codemirror_mode": {
    "name": "ipython",
    "version": 3
   },
   "file_extension": ".py",
   "mimetype": "text/x-python",
   "name": "python",
   "nbconvert_exporter": "python",
   "pygments_lexer": "ipython3",
   "version": "3.13.2"
  }
 },
 "nbformat": 4,
 "nbformat_minor": 5
}
